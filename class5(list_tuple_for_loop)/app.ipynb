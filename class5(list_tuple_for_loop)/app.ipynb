{
 "cells": [
  {
   "cell_type": "markdown",
   "metadata": {},
   "source": [
    "# list\n",
    "* iteration operation on loop\n",
    "* apply any operation on element"
   ]
  },
  {
   "cell_type": "code",
   "execution_count": 1,
   "metadata": {},
   "outputs": [
    {
     "name": "stdout",
     "output_type": "stream",
     "text": [
      "['Emmad', 'Maaz', 'Ammar', 'Ibad']\n",
      "<class 'list'>\n"
     ]
    }
   ],
   "source": [
    "names: list[str] = [\"Emmad\",\"Maaz\",\"Ammar\",\"Ibad\"]\n",
    "print(names)\n",
    "print(type(names))"
   ]
  },
  {
   "cell_type": "code",
   "execution_count": 2,
   "metadata": {},
   "outputs": [
    {
     "name": "stdout",
     "output_type": "stream",
     "text": [
      "Emmad\n",
      "Maaz\n",
      "Ammar\n",
      "Ibad\n"
     ]
    }
   ],
   "source": [
    "names: list[str] = [\"Emmad\",\"Maaz\",\"Ammar\",\"Ibad\"]\n",
    "for name in names:\n",
    "    print(name)"
   ]
  },
  {
   "cell_type": "code",
   "execution_count": 5,
   "metadata": {},
   "outputs": [
    {
     "name": "stdout",
     "output_type": "stream",
     "text": [
      "Emmad 123\n",
      "Ammar 456\n"
     ]
    }
   ],
   "source": [
    "data = [\n",
    "\n",
    "    [\"Emmad\", 123],\n",
    "    [\"Ammar\",456]\n",
    "]\n",
    "for de in data:\n",
    "    row, column = de\n",
    "    print(row, column)"
   ]
  },
  {
   "cell_type": "markdown",
   "metadata": {},
   "source": [
    "### OLD Method"
   ]
  },
  {
   "cell_type": "code",
   "execution_count": 6,
   "metadata": {},
   "outputs": [
    {
     "name": "stdout",
     "output_type": "stream",
     "text": [
      "Emmad\n",
      "Maaz\n",
      "Ammar\n",
      "Ibad\n"
     ]
    }
   ],
   "source": [
    "names: list[str] = [\"Emmad\",\"Maaz\",\"Ammar\",\"Ibad\"]\n",
    "\n",
    "i: int = 0\n",
    "while i<len(names):\n",
    "    print(names[i])\n",
    "    i +=1\n"
   ]
  },
  {
   "cell_type": "markdown",
   "metadata": {},
   "source": [
    "### New "
   ]
  },
  {
   "cell_type": "code",
   "execution_count": 7,
   "metadata": {},
   "outputs": [
    {
     "name": "stdout",
     "output_type": "stream",
     "text": [
      "Emmad\n",
      "Maaz\n",
      "Ammar\n",
      "Ibad\n"
     ]
    }
   ],
   "source": [
    "names: list[str] = [\"Emmad\",\"Maaz\",\"Ammar\",\"Ibad\"]\n",
    "for name in names:\n",
    "    print(name)"
   ]
  },
  {
   "cell_type": "code",
   "execution_count": 9,
   "metadata": {},
   "outputs": [
    {
     "name": "stdout",
     "output_type": "stream",
     "text": [
      "Welcome Dear Sir Emmad\n",
      "Family members\n",
      "Welcome Dear Sir Maaz\n",
      "Family members\n",
      "Welcome Dear Sir Ammar\n",
      "Family members\n",
      "Welcome Dear Sir Ibad\n",
      "Family members\n",
      "Paksitan Zindabad\n"
     ]
    }
   ],
   "source": [
    "names: list[str] = [\"Emmad\",\"Maaz\",\"Ammar\",\"Ibad\"]\n",
    "for name in names:\n",
    "    print(f\"Welcome Dear Sir {name}\")\n",
    "    print(\"Family members\")\n",
    "\n",
    "print(\"Paksitan Zindabad\")"
   ]
  },
  {
   "cell_type": "code",
   "execution_count": 11,
   "metadata": {},
   "outputs": [
    {
     "name": "stdout",
     "output_type": "stream",
     "text": [
      "Welcome Dear Sir Emmad\n",
      "Welcome Dear Sir Maaz\n"
     ]
    }
   ],
   "source": [
    "names: list[str] = [\"Emmad\",\"Maaz\",\"Ammar\",\"Ibad\"]\n",
    "for name in names[:-2]:\n",
    "    print(f\"Welcome Dear Sir {name}\")\n",
    "    "
   ]
  },
  {
   "cell_type": "markdown",
   "metadata": {},
   "source": [
    "### User Management System"
   ]
  },
  {
   "cell_type": "code",
   "execution_count": 18,
   "metadata": {},
   "outputs": [
    {
     "name": "stdout",
     "output_type": "stream",
     "text": [
      "Invalid user\n"
     ]
    }
   ],
   "source": [
    "\n",
    "data_base : list[tuple[str, str]] = [(\"Emmad\",\"123\"),\n",
    "                                     (\"Ammar\",\"456\"),\n",
    "                                     (\"Ibad\",\"789\"),\n",
    "                                     (\"Maaz\",\"276\")]\n",
    "input_user : str = input(\"Enter your name\")\n",
    "input_password: str = input(\"Enter your password\")\n",
    "for row in data_base:\n",
    "    user, password = row\n",
    "    if input_user == user and input_password == password:\n",
    "        print(\"Valid user\")\n",
    "        break\n",
    "else:\n",
    "    print(\"Invalid user\")\n"
   ]
  }
 ],
 "metadata": {
  "kernelspec": {
   "display_name": "python276",
   "language": "python",
   "name": "python3"
  },
  "language_info": {
   "codemirror_mode": {
    "name": "ipython",
    "version": 3
   },
   "file_extension": ".py",
   "mimetype": "text/x-python",
   "name": "python",
   "nbconvert_exporter": "python",
   "pygments_lexer": "ipython3",
   "version": "3.12.0"
  }
 },
 "nbformat": 4,
 "nbformat_minor": 2
}

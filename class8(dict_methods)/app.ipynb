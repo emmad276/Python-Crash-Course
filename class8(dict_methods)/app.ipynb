{
 "cells": [
  {
   "cell_type": "code",
   "execution_count": 1,
   "metadata": {},
   "outputs": [
    {
     "data": {
      "text/plain": [
       "['clear',\n",
       " 'copy',\n",
       " 'fromkeys',\n",
       " 'get',\n",
       " 'items',\n",
       " 'keys',\n",
       " 'pop',\n",
       " 'popitem',\n",
       " 'setdefault',\n",
       " 'update',\n",
       " 'values']"
      ]
     },
     "execution_count": 1,
     "metadata": {},
     "output_type": "execute_result"
    }
   ],
   "source": [
    "[i for i in dir(dict) if \"__\" not in i]"
   ]
  },
  {
   "cell_type": "code",
   "execution_count": 5,
   "metadata": {},
   "outputs": [
    {
     "name": "stdout",
     "output_type": "stream",
     "text": [
      "Before {'name': 'Syed Emmad', 'fname': 'Syed Tanveer', 'age': '30', 'education': 'D pharm'}\n",
      "After {}\n"
     ]
    }
   ],
   "source": [
    "from typing import Dict, Union, Optional\n",
    "\n",
    "# create custom type\n",
    "Key = Union[int, str] \n",
    "Value = Union[str,int,list, dict, set]\n",
    "\n",
    "data : dict[Key, Value] = {\n",
    "    \"name\": \"Syed Emmad\",\n",
    "    \"fname\": \"Syed Tanveer\",\n",
    "    \"age\": \"30\",\n",
    "    \"education\": \"D pharm\"\n",
    "}\n",
    "print(\"Before\", data)\n",
    "data.clear()                                                    # clear all key value pair but object is present\n",
    "print(\"After\",data)\n"
   ]
  },
  {
   "cell_type": "code",
   "execution_count": 7,
   "metadata": {},
   "outputs": [
    {
     "name": "stdout",
     "output_type": "stream",
     "text": [
      "Before {'name': 'Syed Emmad', 'fname': 'Syed Tanveer', 'age': '30', 'education': 'D pharm'}\n"
     ]
    },
    {
     "ename": "NameError",
     "evalue": "name 'data' is not defined",
     "output_type": "error",
     "traceback": [
      "\u001b[1;31m---------------------------------------------------------------------------\u001b[0m",
      "\u001b[1;31mNameError\u001b[0m                                 Traceback (most recent call last)",
      "Cell \u001b[1;32mIn[7], line 15\u001b[0m\n\u001b[0;32m     13\u001b[0m \u001b[38;5;28mprint\u001b[39m(\u001b[38;5;124m\"\u001b[39m\u001b[38;5;124mBefore\u001b[39m\u001b[38;5;124m\"\u001b[39m, data)\n\u001b[0;32m     14\u001b[0m \u001b[38;5;28;01mdel\u001b[39;00m data\n\u001b[1;32m---> 15\u001b[0m \u001b[38;5;28mprint\u001b[39m(\u001b[38;5;124m\"\u001b[39m\u001b[38;5;124mAfter\u001b[39m\u001b[38;5;124m\"\u001b[39m,\u001b[43mdata\u001b[49m)\n",
      "\u001b[1;31mNameError\u001b[0m: name 'data' is not defined"
     ]
    }
   ],
   "source": [
    "from typing import Dict, Union, Optional\n",
    "\n",
    "# create custom type\n",
    "Key = Union[int, str] \n",
    "Value = Union[str,int,list, dict, set]\n",
    "\n",
    "data : dict[Key, Value] = {\n",
    "    \"name\": \"Syed Emmad\",\n",
    "    \"fname\": \"Syed Tanveer\",\n",
    "    \"age\": \"30\",\n",
    "    \"education\": \"D pharm\"\n",
    "}\n",
    "print(\"Before\", data)\n",
    "del data                                      # del remove whole object\n",
    "print(\"After\",data)\n"
   ]
  },
  {
   "cell_type": "code",
   "execution_count": 9,
   "metadata": {},
   "outputs": [
    {
     "name": "stdout",
     "output_type": "stream",
     "text": [
      "Before {'name': 'Syed Emmad', 'fname': 'Syed Tanveer', 'age': '30', 'education': 'D pharm'}\n",
      "After {'name': 'Syed Emmad', 'fname': 'Syed Tanveer', 'education': 'D pharm'}\n"
     ]
    }
   ],
   "source": [
    "from typing import Dict, Union, Optional\n",
    "\n",
    "# create custom type\n",
    "Key = Union[int, str] \n",
    "Value = Union[str,int,list, dict, set]\n",
    "\n",
    "data : dict[Key, Value] = {\n",
    "    \"name\": \"Syed Emmad\",\n",
    "    \"fname\": \"Syed Tanveer\",\n",
    "    \"age\": \"30\",\n",
    "    \"education\": \"D pharm\"\n",
    "}\n",
    "print(\"Before\", data)\n",
    "data.pop(\"age\")                                    \n",
    "print(\"After\",data)\n"
   ]
  },
  {
   "cell_type": "code",
   "execution_count": 12,
   "metadata": {},
   "outputs": [
    {
     "name": "stdout",
     "output_type": "stream",
     "text": [
      "Before {'name': 'Syed Emmad', 'fname': 'Syed Tanveer', 'age': '30', 'education': 'D pharm'}\n",
      "After {'name': 'Syed Emmad', 'fname': 'Syed Tanveer', 'age': '30'}\n"
     ]
    }
   ],
   "source": [
    "from typing import Dict, Union, Optional\n",
    "\n",
    "# create custom type\n",
    "Key = Union[int, str] \n",
    "Value = Union[str,int,list, dict, set]\n",
    "\n",
    "data : dict[Key, Value] = {\n",
    "    \"name\": \"Syed Emmad\",\n",
    "    \"fname\": \"Syed Tanveer\",\n",
    "    \"age\": \"30\",\n",
    "    \"education\": \"D pharm\"\n",
    "}\n",
    "print(\"Before\", data)\n",
    "data.popitem()                                 \n",
    "print(\"After\",data)\n"
   ]
  },
  {
   "cell_type": "code",
   "execution_count": 15,
   "metadata": {},
   "outputs": [
    {
     "name": "stdout",
     "output_type": "stream",
     "text": [
      "Not Available\n"
     ]
    }
   ],
   "source": [
    "from typing import Dict, Union, Optional\n",
    "\n",
    "# create custom type\n",
    "Key = Union[int, str] \n",
    "Value = Union[str,int,list, dict, set]\n",
    "\n",
    "data : dict[Key, Value] = {\n",
    "    \"name\": \"Syed Emmad\",\n",
    "    \"fname\": \"Syed Tanveer\",\n",
    "    \"age\": \"30\",\n",
    "    \"education\": \"D pharm\"\n",
    "}\n",
    "print(data.get(\"Pakistan\",\"Not Available\"))\n"
   ]
  },
  {
   "cell_type": "code",
   "execution_count": 20,
   "metadata": {},
   "outputs": [
    {
     "name": "stdout",
     "output_type": "stream",
     "text": [
      "{'name': 'Syed Emmad', 'fname': 'Syed Tanveer', 'age': '30', 'education': 'D pharm', 'Paksitan': 'karachi'}\n"
     ]
    }
   ],
   "source": [
    "from typing import Dict, Union, Optional\n",
    "\n",
    "# create custom type\n",
    "Key = Union[int, str] \n",
    "Value = Union[str,int,list, dict, set]\n",
    "\n",
    "data : dict[Key, Value] = {\n",
    "    \"name\": \"Syed Emmad\",\n",
    "    \"fname\": \"Syed Tanveer\",\n",
    "    \"age\": \"30\",\n",
    "    \"education\": \"D pharm\"\n",
    "}\n",
    "data.setdefault(\"Paksitan\",\"karachi\")      # add new key or value\n",
    "print(data)"
   ]
  },
  {
   "cell_type": "code",
   "execution_count": 22,
   "metadata": {},
   "outputs": [
    {
     "name": "stdout",
     "output_type": "stream",
     "text": [
      "{'name': 'Syed Ibad', 'fname': 'Syed Tanveer', 'age': '26', 'education': 'D pharm', 'address': 'Block-13', 'contact': '033713239264361'}\n"
     ]
    }
   ],
   "source": [
    "from typing import Dict, Union, Optional\n",
    "\n",
    "# create custom type\n",
    "Key = Union[int, str] \n",
    "Value = Union[str,int,list, dict, set]\n",
    "\n",
    "data : dict[Key, Value] = {\n",
    "    \"name\": \"Syed Emmad\",\n",
    "    \"fname\": \"Syed Tanveer\",\n",
    "    \"age\": \"30\",\n",
    "    \"education\": \"D pharm\"\n",
    "}\n",
    "\n",
    "data1 : dict[Key, Value] = {\n",
    "    \"name\":\"Syed Ibad\",\n",
    "    \"address\":\"Block-13\",\n",
    "    \"age\":\"26\",\n",
    "    \"contact\":\"033713239264361\"\n",
    "}\n",
    "\n",
    "\n",
    "data.update(data1)             # old key update and add new key\n",
    "print(data)"
   ]
  },
  {
   "cell_type": "code",
   "execution_count": null,
   "metadata": {},
   "outputs": [],
   "source": []
  },
  {
   "cell_type": "code",
   "execution_count": 1,
   "metadata": {},
   "outputs": [
    {
     "data": {
      "text/html": [
       "<div>\n",
       "<style scoped>\n",
       "    .dataframe tbody tr th:only-of-type {\n",
       "        vertical-align: middle;\n",
       "    }\n",
       "\n",
       "    .dataframe tbody tr th {\n",
       "        vertical-align: top;\n",
       "    }\n",
       "\n",
       "    .dataframe thead th {\n",
       "        text-align: right;\n",
       "    }\n",
       "</style>\n",
       "<table border=\"1\" class=\"dataframe\">\n",
       "  <thead>\n",
       "    <tr style=\"text-align: right;\">\n",
       "      <th></th>\n",
       "      <th>roll_no</th>\n",
       "      <th>name</th>\n",
       "      <th>education</th>\n",
       "    </tr>\n",
       "  </thead>\n",
       "  <tbody>\n",
       "    <tr>\n",
       "      <th>0</th>\n",
       "      <td>1</td>\n",
       "      <td>Emmad</td>\n",
       "      <td>Master</td>\n",
       "    </tr>\n",
       "    <tr>\n",
       "      <th>1</th>\n",
       "      <td>2</td>\n",
       "      <td>Ammar</td>\n",
       "      <td>Master</td>\n",
       "    </tr>\n",
       "    <tr>\n",
       "      <th>2</th>\n",
       "      <td>3</td>\n",
       "      <td>Ibad</td>\n",
       "      <td>Master</td>\n",
       "    </tr>\n",
       "    <tr>\n",
       "      <th>3</th>\n",
       "      <td>4</td>\n",
       "      <td>Maaz</td>\n",
       "      <td>Master</td>\n",
       "    </tr>\n",
       "  </tbody>\n",
       "</table>\n",
       "</div>"
      ],
      "text/plain": [
       "   roll_no   name education\n",
       "0        1  Emmad    Master\n",
       "1        2  Ammar    Master\n",
       "2        3   Ibad    Master\n",
       "3        4   Maaz    Master"
      ]
     },
     "execution_count": 1,
     "metadata": {},
     "output_type": "execute_result"
    }
   ],
   "source": [
    "import pandas as pd   # type: ignore\n",
    "from typing import Any, Dict\n",
    "student_data : Dict[str, list[Any]] = {\n",
    "    \"roll_no\" : [1,2,3,4],\n",
    "    \"name\" : [\"Emmad\",\"Ammar\",\"Ibad\",\"Maaz\"],\n",
    "    \"education\": [\"Master\",\"Master\",\"Master\",\"Master\"]\n",
    "}\n",
    "\n",
    "\n",
    "df : pd.DataFrame = pd.DataFrame(student_data)\n",
    "df"
   ]
  },
  {
   "cell_type": "code",
   "execution_count": 6,
   "metadata": {},
   "outputs": [
    {
     "name": "stdout",
     "output_type": "stream",
     "text": [
      "Original position: 0\n",
      "New position: 2\n"
     ]
    }
   ],
   "source": [
    "alien_0 = {'x_position': 0, 'y_position': 25, 'speed': 'medium'}\n",
    "print(f\"Original position: {alien_0['x_position']}\")\n",
    "# Move the alien to the right.\n",
    "# Determine how far to move the alien based on its current speed.\n",
    "if alien_0['speed'] == 'slow':\n",
    "    x_increment = 1\n",
    "elif alien_0['speed'] == 'medium':\n",
    "    x_increment = 2\n",
    "else:\n",
    "# This must be a fast alien.\n",
    "    x_increment = 3\n",
    "# The new position is the old position plus the increment.\n",
    "# alien_0['x_position'] = alien_0['x_position'] + x_increment\n",
    "alien_0['x_position'] += x_increment\n",
    "print(f\"New position: {alien_0['x_position']}\")"
   ]
  }
 ],
 "metadata": {
  "kernelspec": {
   "display_name": "python276",
   "language": "python",
   "name": "python3"
  },
  "language_info": {
   "codemirror_mode": {
    "name": "ipython",
    "version": 3
   },
   "file_extension": ".py",
   "mimetype": "text/x-python",
   "name": "python",
   "nbconvert_exporter": "python",
   "pygments_lexer": "ipython3",
   "version": "3.12.0"
  }
 },
 "nbformat": 4,
 "nbformat_minor": 2
}

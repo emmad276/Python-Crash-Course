{
 "cells": [
  {
   "cell_type": "markdown",
   "metadata": {},
   "source": [
    "# Sring data type in python"
   ]
  },
  {
   "cell_type": "code",
   "execution_count": 2,
   "metadata": {},
   "outputs": [
    {
     "name": "stdout",
     "output_type": "stream",
     "text": [
      "Emmad\n",
      "<class 'str'>\n"
     ]
    }
   ],
   "source": [
    "#  string define in particular boundary\n",
    "#  ' ' , \" \" , ''' ''' , \"\"\"  \"\"\"\n",
    "name: str = \"Emmad\"\n",
    "print(name)\n",
    "print(type(name))\n"
   ]
  },
  {
   "cell_type": "code",
   "execution_count": 5,
   "metadata": {},
   "outputs": [
    {
     "name": "stdout",
     "output_type": "stream",
     "text": [
      "PIAIC Student Card \n",
      "Student name: \n",
      "Father's name: \n"
     ]
    }
   ],
   "source": [
    "#  conver special meaning character into simple character, place \\ befor character \n",
    "message = 'PIAIC Student Card \\nStudent name: \\nFather\\'s name: '\n",
    "print(message)"
   ]
  },
  {
   "cell_type": "markdown",
   "metadata": {},
   "source": [
    "# Concatination\n",
    "* Can only do in String"
   ]
  },
  {
   "cell_type": "code",
   "execution_count": 9,
   "metadata": {},
   "outputs": [
    {
     "name": "stdout",
     "output_type": "stream",
     "text": [
      "PIAIC Student Card \n",
      "Student name: Syed Emmad Ahmed\n",
      "Father name: Syed Tanveer Ahmed\n",
      "Education: Generative AI Specialist\n",
      "Age: 22\n"
     ]
    }
   ],
   "source": [
    "name: str = \"Syed Emmad Ahmed\"\n",
    "fname: str = \"Syed Tanveer Ahmed\"\n",
    "education: str = \"Generative AI Specialist\"\n",
    "age: str = \"22\"\n",
    "\n",
    "card: str = \"PIAIC Student Card \\nStudent name: \" + name + \"\\nFather name: \" + fname + \"\\nEducation: \" + education + \"\\nAge: \" + age\n",
    "print(card)"
   ]
  },
  {
   "cell_type": "code",
   "execution_count": 10,
   "metadata": {},
   "outputs": [
    {
     "name": "stdout",
     "output_type": "stream",
     "text": [
      "14\n"
     ]
    }
   ],
   "source": [
    "#  we can line change by back slash -------> line continue\n",
    "print(7 + \\\n",
    "      3 + \\\n",
    "        4)"
   ]
  },
  {
   "cell_type": "code",
   "execution_count": 12,
   "metadata": {},
   "outputs": [
    {
     "name": "stdout",
     "output_type": "stream",
     "text": [
      "PIAIC Student Card \n",
      "Student name: Syed Emmad Ahmed\n",
      "Father name: Syed Tanveer Ahmed\n",
      "Education: Generative AI Specialist\n",
      "Age: 22\n"
     ]
    }
   ],
   "source": [
    "name: str = \"Syed Emmad Ahmed\"\n",
    "fname: str = \"Syed Tanveer Ahmed\"\n",
    "education: str = \"Generative AI Specialist\"\n",
    "age: str = \"22\"\n",
    "\n",
    "card: str = \"PIAIC Student Card \\nStudent name: \" + name + \\\n",
    "    \"\\nFather name: \" + fname + \\\n",
    "    \"\\nEducation: \" + education + \\\n",
    "        \"\\nAge: \" + age\n",
    "print(card)"
   ]
  },
  {
   "cell_type": "markdown",
   "metadata": {},
   "source": [
    "# Define multiline String\n",
    "* \"\"\"string\"\"\"\n",
    "* '''string'''"
   ]
  },
  {
   "cell_type": "code",
   "execution_count": 17,
   "metadata": {},
   "outputs": [
    {
     "name": "stdout",
     "output_type": "stream",
     "text": [
      "\n",
      "PIAIC STUDENT CARD\n",
      "Name: ....\n",
      "Father name: ....\n",
      "Age: ...\n",
      "\n"
     ]
    }
   ],
   "source": [
    "name: str = \"Syed Emmad Ahmed\"\n",
    "fname: str = \"Syed Tanveer Ahmed\"\n",
    "education: str = \"Generative AI Specialist\"\n",
    "age: str = \"22\"\n",
    "\n",
    "card: str = \"\"\"\n",
    "PIAIC STUDENT CARD\n",
    "Name: ....\n",
    "Father name: ....\n",
    "Age: ...\n",
    "\"\"\"\n",
    "print(card)"
   ]
  },
  {
   "cell_type": "markdown",
   "metadata": {},
   "source": [
    "# fstring"
   ]
  },
  {
   "cell_type": "code",
   "execution_count": 18,
   "metadata": {},
   "outputs": [
    {
     "name": "stdout",
     "output_type": "stream",
     "text": [
      "PIAIC Student Card \n",
      "Student name: Syed Emmad Ahmed\n",
      "Father name: Syed Tanveer Ahmed \n",
      "Education: Generative AI Specialist\n",
      "Age: 22\n",
      "\n"
     ]
    }
   ],
   "source": [
    "name: str = \"Syed Emmad Ahmed\"\n",
    "fname: str = \"Syed Tanveer Ahmed\"\n",
    "education: str = \"Generative AI Specialist\"\n",
    "age: int = 22\n",
    "\n",
    "card: str = f\"\"\"PIAIC Student Card \n",
    "Student name: {name}\n",
    "Father name: {fname} \n",
    "Education: {education}\n",
    "Age: {age}\n",
    "\"\"\"\n",
    "print(card)\n"
   ]
  },
  {
   "cell_type": "markdown",
   "metadata": {},
   "source": []
  },
  {
   "cell_type": "code",
   "execution_count": 19,
   "metadata": {},
   "outputs": [
    {
     "name": "stdout",
     "output_type": "stream",
     "text": [
      "PIAIC Student Card \n",
      "Student name: Syed Emmad Ahmed\n",
      "Father name: Syed Tanveer Ahmed \n",
      "Education: Generative AI Specialist\n",
      "Age: 22\n",
      "\n",
      "\n",
      "Total = 13\n"
     ]
    }
   ],
   "source": [
    "name: str = \"Syed Emmad Ahmed\"\n",
    "fname: str = \"Syed Tanveer Ahmed\"\n",
    "education: str = \"Generative AI Specialist\"\n",
    "age: int = 22\n",
    "\n",
    "card: str = f\"\"\"PIAIC Student Card \n",
    "Student name: {name}\n",
    "Father name: {fname} \n",
    "Education: {education}\n",
    "Age: {age}\n",
    "\n",
    "\n",
    "Total = {2 + 5 + 6}  \n",
    "\"\"\"\n",
    "\n",
    "print(card)\n"
   ]
  },
  {
   "cell_type": "markdown",
   "metadata": {},
   "source": [
    "### F-String and Jinja Style"
   ]
  },
  {
   "cell_type": "code",
   "execution_count": 20,
   "metadata": {},
   "outputs": [
    {
     "data": {
      "text/plain": [
       "'\\nStudent name: Syed Emmad Ahmed\\n'"
      ]
     },
     "execution_count": 20,
     "metadata": {},
     "output_type": "execute_result"
    }
   ],
   "source": [
    "# Fstring Style\n",
    "f\"\"\"\n",
    "Student name: {name}\n",
    "\"\"\""
   ]
  },
  {
   "cell_type": "code",
   "execution_count": 21,
   "metadata": {},
   "outputs": [
    {
     "data": {
      "text/plain": [
       "'\\nStudent name {{name}}\\n'"
      ]
     },
     "execution_count": 21,
     "metadata": {},
     "output_type": "execute_result"
    }
   ],
   "source": [
    "#  Jinja Style\n",
    "\"\"\"\n",
    "Student name {{name}}\n",
    "\"\"\""
   ]
  },
  {
   "cell_type": "markdown",
   "metadata": {},
   "source": [
    "#### old Method use in C language"
   ]
  },
  {
   "cell_type": "code",
   "execution_count": 23,
   "metadata": {},
   "outputs": [
    {
     "name": "stdout",
     "output_type": "stream",
     "text": [
      "\n",
      "PIAIC Student Card\n",
      "Name: Syed Emmad Ahmed\n",
      "Father name: Syed Tanveer Ahmed\n",
      "Age: 22\n",
      "Education: Generative AI Specialist\n",
      "\n",
      "\n"
     ]
    }
   ],
   "source": [
    "name: str = \"Syed Emmad Ahmed\"\n",
    "fname: str = \"Syed Tanveer Ahmed\"\n",
    "education: str = \"Generative AI Specialist\"\n",
    "age: int = 22\n",
    "\n",
    "card : str = f\"\"\"\n",
    "PIAIC Student Card\n",
    "Name: %s\n",
    "Father name: %s\n",
    "Age: %d\n",
    "Education: %s\n",
    "\n",
    "\"\"\"% (name, fname, age, education)\n",
    "print(card)"
   ]
  },
  {
   "cell_type": "code",
   "execution_count": 24,
   "metadata": {},
   "outputs": [
    {
     "data": {
      "text/plain": [
       "['capitalize',\n",
       " 'casefold',\n",
       " 'center',\n",
       " 'count',\n",
       " 'encode',\n",
       " 'endswith',\n",
       " 'expandtabs',\n",
       " 'find',\n",
       " 'format',\n",
       " 'format_map',\n",
       " 'index',\n",
       " 'isalnum',\n",
       " 'isalpha',\n",
       " 'isascii',\n",
       " 'isdecimal',\n",
       " 'isdigit',\n",
       " 'isidentifier',\n",
       " 'islower',\n",
       " 'isnumeric',\n",
       " 'isprintable',\n",
       " 'isspace',\n",
       " 'istitle',\n",
       " 'isupper',\n",
       " 'join',\n",
       " 'ljust',\n",
       " 'lower',\n",
       " 'lstrip',\n",
       " 'maketrans',\n",
       " 'partition',\n",
       " 'removeprefix',\n",
       " 'removesuffix',\n",
       " 'replace',\n",
       " 'rfind',\n",
       " 'rindex',\n",
       " 'rjust',\n",
       " 'rpartition',\n",
       " 'rsplit',\n",
       " 'rstrip',\n",
       " 'split',\n",
       " 'splitlines',\n",
       " 'startswith',\n",
       " 'strip',\n",
       " 'swapcase',\n",
       " 'title',\n",
       " 'translate',\n",
       " 'upper',\n",
       " 'zfill']"
      ]
     },
     "execution_count": 24,
     "metadata": {},
     "output_type": "execute_result"
    }
   ],
   "source": [
    "[i for i in dir(str) if \"__\" not in i]"
   ]
  },
  {
   "cell_type": "markdown",
   "metadata": {},
   "source": [
    "### Format method"
   ]
  },
  {
   "cell_type": "code",
   "execution_count": 25,
   "metadata": {},
   "outputs": [
    {
     "data": {
      "text/plain": [
       "'Pakistan value a = 2 and value b = 4 '"
      ]
     },
     "execution_count": 25,
     "metadata": {},
     "output_type": "execute_result"
    }
   ],
   "source": [
    "a= 2\n",
    "b= 4\n",
    "# {} placeholer\n",
    "\"Pakistan value a = {} and value b = {} \".format(a,b)"
   ]
  },
  {
   "cell_type": "code",
   "execution_count": 26,
   "metadata": {},
   "outputs": [
    {
     "name": "stdout",
     "output_type": "stream",
     "text": [
      "PIAIC Student Card \n",
      "Student name: Syed Emmad Ahmed\n",
      "Father name: Syed Tanveer Ahmed \n",
      "Education: Generative AI Specialist\n",
      "Age: 22\n",
      "\n"
     ]
    }
   ],
   "source": [
    "name: str = \"Syed Emmad Ahmed\"\n",
    "fname: str = \"Syed Tanveer Ahmed\"\n",
    "education: str = \"Generative AI Specialist\"\n",
    "age: int = 22\n",
    "\n",
    "card: str = \"\"\"PIAIC Student Card \n",
    "Student name: {}\n",
    "Father name: {} \n",
    "Education: {}\n",
    "Age: {}\n",
    "\"\"\".format(name, fname, education, age)\n",
    "print(card)\n"
   ]
  },
  {
   "cell_type": "code",
   "execution_count": 27,
   "metadata": {},
   "outputs": [
    {
     "name": "stdout",
     "output_type": "stream",
     "text": [
      "PIAIC Student Card \n",
      "Student name: Syed Emmad Ahmed\n",
      "Father name: Syed Tanveer Ahmed \n",
      "Education: Generative AI Specialist\n",
      "Age: 22\n",
      "\n"
     ]
    }
   ],
   "source": [
    "name: str = \"Syed Emmad Ahmed\"\n",
    "fname: str = \"Syed Tanveer Ahmed\"\n",
    "education: str = \"Generative AI Specialist\"\n",
    "age: int = 22\n",
    "\n",
    "card: str = \"\"\"PIAIC Student Card \n",
    "Student name: {2}\n",
    "Father name: {0} \n",
    "Education: {3}\n",
    "Age: {1}\n",
    "\"\"\".format(fname, age, name, education)\n",
    "print(card)\n"
   ]
  },
  {
   "cell_type": "code",
   "execution_count": 28,
   "metadata": {},
   "outputs": [
    {
     "name": "stdout",
     "output_type": "stream",
     "text": [
      "PIAIC Student Card \n",
      "Student name: Syed Emmad Ahmed\n",
      "Father name: Syed Tanveer Ahmed \n",
      "Education: Generative AI Specialist\n",
      "Age: 22\n",
      "\n"
     ]
    }
   ],
   "source": [
    "name: str = \"Syed Emmad Ahmed\"\n",
    "fname: str = \"Syed Tanveer Ahmed\"\n",
    "education: str = \"Generative AI Specialist\"\n",
    "age: int = 22\n",
    "\n",
    "card: str = \"\"\"PIAIC Student Card \n",
    "Student name: {a}\n",
    "Father name: {b} \n",
    "Education: {c}\n",
    "Age: {d}\n",
    "\"\"\".format(a=name, b=fname,c=education , d=age)\n",
    "print(card)"
   ]
  },
  {
   "cell_type": "markdown",
   "metadata": {},
   "source": [
    "## Recommended"
   ]
  },
  {
   "cell_type": "code",
   "execution_count": 29,
   "metadata": {},
   "outputs": [
    {
     "name": "stdout",
     "output_type": "stream",
     "text": [
      "PIAIC Student Card \n",
      "Student name: Syed Emmad Ahmed\n",
      "Father name: Syed Tanveer Ahmed \n",
      "Education: Generative AI Specialist\n",
      "Age: 22\n",
      "\n"
     ]
    }
   ],
   "source": [
    "name: str = \"Syed Emmad Ahmed\"\n",
    "fname: str = \"Syed Tanveer Ahmed\"\n",
    "education: str = \"Generative AI Specialist\"\n",
    "age: int = 22\n",
    "\n",
    "card: str = f\"\"\"PIAIC Student Card \n",
    "Student name: {name}\n",
    "Father name: {fname} \n",
    "Education: {education}\n",
    "Age: {age}\n",
    "\"\"\"\n",
    "print(card)\n"
   ]
  },
  {
   "cell_type": "code",
   "execution_count": 30,
   "metadata": {},
   "outputs": [
    {
     "name": "stdout",
     "output_type": "stream",
     "text": [
      "PIAIC Student Card \n",
      "Student name: Syed Emmad Ahmed\n",
      "Father name: Syed Tanveer Ahmed \n",
      "Education: Generative AI Specialist\n",
      "Age: 22\n",
      "\n"
     ]
    }
   ],
   "source": [
    "name: str = \"Syed Emmad Ahmed\"\n",
    "fname: str = \"Syed Tanveer Ahmed\"\n",
    "education: str = \"Generative AI Specialist\"\n",
    "age: int = 22\n",
    "\n",
    "card: str = \"\"\"PIAIC Student Card \n",
    "Student name: {a}\n",
    "Father name: {b} \n",
    "Education: {c}\n",
    "Age: {d}\n",
    "\"\"\".format(a=name, b=fname,c=education , d=age)\n",
    "print(card)"
   ]
  },
  {
   "cell_type": "code",
   "execution_count": 35,
   "metadata": {},
   "outputs": [
    {
     "name": "stdout",
     "output_type": "stream",
     "text": [
      "My name in Emmad\n",
      "7\n"
     ]
    }
   ],
   "source": [
    "student_code : str = \"\"\"\n",
    "print(\"My name in Emmad\")\n",
    "a : int = 1\n",
    "b : int = 6\n",
    "print(a + b)\n",
    "\"\"\"\n",
    "\n",
    "exec(student_code)"
   ]
  },
  {
   "cell_type": "markdown",
   "metadata": {},
   "source": [
    "### Explore String Methods and attributes\n"
   ]
  },
  {
   "cell_type": "code",
   "execution_count": 37,
   "metadata": {},
   "outputs": [
    {
     "data": {
      "text/plain": [
       "['capitalize',\n",
       " 'casefold',\n",
       " 'center',\n",
       " 'count',\n",
       " 'encode',\n",
       " 'endswith',\n",
       " 'expandtabs',\n",
       " 'find',\n",
       " 'format',\n",
       " 'format_map',\n",
       " 'index',\n",
       " 'isalnum',\n",
       " 'isalpha',\n",
       " 'isascii',\n",
       " 'isdecimal',\n",
       " 'isdigit',\n",
       " 'isidentifier',\n",
       " 'islower',\n",
       " 'isnumeric',\n",
       " 'isprintable',\n",
       " 'isspace',\n",
       " 'istitle',\n",
       " 'isupper',\n",
       " 'join',\n",
       " 'ljust',\n",
       " 'lower',\n",
       " 'lstrip',\n",
       " 'maketrans',\n",
       " 'partition',\n",
       " 'removeprefix',\n",
       " 'removesuffix',\n",
       " 'replace',\n",
       " 'rfind',\n",
       " 'rindex',\n",
       " 'rjust',\n",
       " 'rpartition',\n",
       " 'rsplit',\n",
       " 'rstrip',\n",
       " 'split',\n",
       " 'splitlines',\n",
       " 'startswith',\n",
       " 'strip',\n",
       " 'swapcase',\n",
       " 'title',\n",
       " 'translate',\n",
       " 'upper',\n",
       " 'zfill']"
      ]
     },
     "execution_count": 37,
     "metadata": {},
     "output_type": "execute_result"
    }
   ],
   "source": [
    "[i for i in dir(str) if \"__\" not in i]\n"
   ]
  },
  {
   "cell_type": "code",
   "execution_count": 39,
   "metadata": {},
   "outputs": [
    {
     "name": "stdout",
     "output_type": "stream",
     "text": [
      "syed emmad ahmed\n",
      "Syed emmad ahmed\n"
     ]
    }
   ],
   "source": [
    "name: str = \"syed emmad ahmed\"\n",
    "print(name)\n",
    "print(name.capitalize())"
   ]
  },
  {
   "cell_type": "markdown",
   "metadata": {},
   "source": [
    "### Casefold\n",
    "* Converts the string to lowercase and is more aggressive than lower() as it is intended to remove all case distinctions in Unicode characters."
   ]
  },
  {
   "cell_type": "code",
   "execution_count": 41,
   "metadata": {},
   "outputs": [
    {
     "name": "stdout",
     "output_type": "stream",
     "text": [
      "syed emmad ahmed\n",
      "syed emmad ahmed\n"
     ]
    }
   ],
   "source": [
    "name: str = \"syed emmad ahmed\"\n",
    "print(name)\n",
    "print(name.casefold()) # kamm same but logic alag hay\n",
    "# casefold ye kheta haike kisi bhi case ko follow nahi kerna"
   ]
  },
  {
   "cell_type": "markdown",
   "metadata": {},
   "source": [
    "### Lower\n",
    "* Converts all characters in the string to lowercase."
   ]
  },
  {
   "cell_type": "code",
   "execution_count": 42,
   "metadata": {},
   "outputs": [
    {
     "name": "stdout",
     "output_type": "stream",
     "text": [
      "syed emmad ahmed\n",
      "syed emmad ahmed\n"
     ]
    }
   ],
   "source": [
    "name: str = \"syed emmad ahmed\"\n",
    "print(name)\n",
    "print(name.lower()) # kamm same but logic alag hay\n",
    "# lowercase subko chota kerdeta hay"
   ]
  },
  {
   "cell_type": "markdown",
   "metadata": {},
   "source": [
    "### Lstrip\n",
    "* Removes any leading (left-side) whitespace or specified characters from the string."
   ]
  },
  {
   "cell_type": "code",
   "execution_count": 44,
   "metadata": {},
   "outputs": [
    {
     "name": "stdout",
     "output_type": "stream",
     "text": [
      "     syed emmad ahmed     \n",
      "syed emmad ahmed     \n"
     ]
    }
   ],
   "source": [
    "name: str = \"     syed emmad ahmed     \"\n",
    "display(name)\n",
    "display(name.lstrip())"
   ]
  },
  {
   "cell_type": "markdown",
   "metadata": {},
   "source": [
    "### rstrip\n",
    "*  Removes any trailing (right-side) whitespace or specified characters from the string."
   ]
  },
  {
   "cell_type": "code",
   "execution_count": 45,
   "metadata": {},
   "outputs": [
    {
     "data": {
      "text/plain": [
       "'     syed emmad ahmed     '"
      ]
     },
     "metadata": {},
     "output_type": "display_data"
    },
    {
     "data": {
      "text/plain": [
       "'     syed emmad ahmed'"
      ]
     },
     "metadata": {},
     "output_type": "display_data"
    }
   ],
   "source": [
    "name: str = \"     syed emmad ahmed     \"\n",
    "display(name)\n",
    "display(name.rstrip())"
   ]
  },
  {
   "cell_type": "markdown",
   "metadata": {},
   "source": [
    "### strip\n",
    "* Removes both leading and trailing whitespace or specified characters from the string."
   ]
  },
  {
   "cell_type": "code",
   "execution_count": 46,
   "metadata": {},
   "outputs": [
    {
     "data": {
      "text/plain": [
       "'     syed emmad ahmed     '"
      ]
     },
     "metadata": {},
     "output_type": "display_data"
    },
    {
     "data": {
      "text/plain": [
       "'syed emmad ahmed'"
      ]
     },
     "metadata": {},
     "output_type": "display_data"
    }
   ],
   "source": [
    "name: str = \"     syed emmad ahmed     \"\n",
    "display(name)\n",
    "display(name.strip())"
   ]
  },
  {
   "cell_type": "code",
   "execution_count": 7,
   "metadata": {},
   "outputs": [
    {
     "data": {
      "text/plain": [
       "'  syed             emmad    ahmed     '"
      ]
     },
     "metadata": {},
     "output_type": "display_data"
    },
    {
     "data": {
      "text/plain": [
       "' syed emmad ahmed '"
      ]
     },
     "metadata": {},
     "output_type": "display_data"
    }
   ],
   "source": [
    "# Regex Expression------> to remove spaces \n",
    "\n",
    "import re\n",
    "name: str = \"  syed             emmad    ahmed     \"\n",
    "display(name)\n",
    "name1: str =re.sub(' {2,100}', \" \", name)\n",
    "display(name1)"
   ]
  },
  {
   "cell_type": "code",
   "execution_count": 4,
   "metadata": {},
   "outputs": [
    {
     "data": {
      "text/plain": [
       "'  syed             emmad    ahmed      '"
      ]
     },
     "metadata": {},
     "output_type": "display_data"
    },
    {
     "data": {
      "text/plain": [
       "'syed emmad ahmed'"
      ]
     },
     "metadata": {},
     "output_type": "display_data"
    }
   ],
   "source": [
    "# Regex Expression------> to remove spaces \n",
    "\n",
    "import re\n",
    "name: str = \"  syed             emmad    ahmed      \"\n",
    "display(name)\n",
    "name1: str =re.sub(' {2,100}' , \" \", name).strip()\n",
    "display(name1)"
   ]
  },
  {
   "cell_type": "code",
   "execution_count": 50,
   "metadata": {},
   "outputs": [
    {
     "name": "stdout",
     "output_type": "stream",
     "text": [
      "syed emmad ahmed\n",
      "Syed Emmad Ahmed\n"
     ]
    }
   ],
   "source": [
    "name: str = \"syed emmad ahmed\"\n",
    "print(name)\n",
    "print(name.title())"
   ]
  },
  {
   "cell_type": "code",
   "execution_count": 52,
   "metadata": {},
   "outputs": [
    {
     "name": "stdout",
     "output_type": "stream",
     "text": [
      "syed emmad ahmed\n",
      "SYED EMMAD AHMED\n",
      "syed emmad ahmed\n"
     ]
    }
   ],
   "source": [
    "name: str = \"syed emmad ahmed\"\n",
    "print(name)\n",
    "print(name.upper())\n",
    "print(name.lower())"
   ]
  },
  {
   "cell_type": "code",
   "execution_count": null,
   "metadata": {},
   "outputs": [],
   "source": [
    "# Special meaning character\n",
    "# \\n\n",
    "# \\t\n",
    "# \\b"
   ]
  },
  {
   "cell_type": "code",
   "execution_count": 53,
   "metadata": {},
   "outputs": [
    {
     "name": "stdout",
     "output_type": "stream",
     "text": [
      "\n",
      "Emmad\n"
     ]
    }
   ],
   "source": [
    "name: str = \"\\nEmmad\"\n",
    "print(name)"
   ]
  },
  {
   "cell_type": "code",
   "execution_count": 54,
   "metadata": {},
   "outputs": [
    {
     "name": "stdout",
     "output_type": "stream",
     "text": [
      "\t \t Emmad\n"
     ]
    }
   ],
   "source": [
    "name: str = \"\\t \\t Emmad\"\n",
    "print(name)"
   ]
  },
  {
   "cell_type": "code",
   "execution_count": 55,
   "metadata": {},
   "outputs": [
    {
     "name": "stdout",
     "output_type": "stream",
     "text": [
      "NameEmmad\n"
     ]
    }
   ],
   "source": [
    "name: str = \"Name:\\bEmmad\"\n",
    "print(name)"
   ]
  },
  {
   "cell_type": "code",
   "execution_count": 58,
   "metadata": {},
   "outputs": [
    {
     "data": {
      "text/plain": [
       "'google.com'"
      ]
     },
     "execution_count": 58,
     "metadata": {},
     "output_type": "execute_result"
    }
   ],
   "source": [
    "url : str = \"https://google.com\"\n",
    "url.removeprefix(\"https://\")\n",
    "# url.removesuffix(\".com\")"
   ]
  },
  {
   "cell_type": "markdown",
   "metadata": {},
   "source": [
    "* strings are immutable when I apply a upper function it return new string "
   ]
  },
  {
   "cell_type": "code",
   "execution_count": 6,
   "metadata": {},
   "outputs": [
    {
     "name": "stdout",
     "output_type": "stream",
     "text": [
      "Emmad\n",
      "EMMAD\n",
      "Emmad\n"
     ]
    }
   ],
   "source": [
    "# strings are immutable\n",
    "name : str = \"Emmad\"\n",
    "print(name)\n",
    "print(name.upper())\n",
    "print(name)"
   ]
  },
  {
   "cell_type": "code",
   "execution_count": 11,
   "metadata": {},
   "outputs": [
    {
     "name": "stdout",
     "output_type": "stream",
     "text": [
      "Emmad\n",
      "emmad\n",
      "Emmad\n"
     ]
    }
   ],
   "source": [
    "# strings are immutable\n",
    "name : str = \"Emmad\"\n",
    "print(name)\n",
    "print(name.lower())\n",
    "print(name)"
   ]
  },
  {
   "cell_type": "code",
   "execution_count": 13,
   "metadata": {},
   "outputs": [
    {
     "name": "stdout",
     "output_type": "stream",
     "text": [
      "Emmad!!!!\n",
      "Emmad\n"
     ]
    }
   ],
   "source": [
    "name: str = \"Emmad!!!!\"\n",
    "print(name)\n",
    "print(name.rstrip(\"!\"))"
   ]
  },
  {
   "cell_type": "code",
   "execution_count": 14,
   "metadata": {},
   "outputs": [
    {
     "name": "stdout",
     "output_type": "stream",
     "text": [
      "!!!!Emmad\n",
      "Emmad\n"
     ]
    }
   ],
   "source": [
    "name: str = \"!!!!Emmad\"\n",
    "print(name)\n",
    "print(name.lstrip(\"!\"))"
   ]
  },
  {
   "cell_type": "markdown",
   "metadata": {},
   "source": [
    "### replace(\"old\",\"new\")\n",
    "*  Replaces all occurrences of a specified substring (old) with another substring (new).\n",
    "\n"
   ]
  },
  {
   "cell_type": "code",
   "execution_count": 15,
   "metadata": {},
   "outputs": [
    {
     "name": "stdout",
     "output_type": "stream",
     "text": [
      "Syed Emmad Ahmed\n",
      "Syed Tanveer Ahmed\n"
     ]
    }
   ],
   "source": [
    "name: str =\"Syed Emmad Ahmed\"\n",
    "print(name)\n",
    "print(name.replace(\"Emmad\",\"Tanveer\"))"
   ]
  },
  {
   "cell_type": "markdown",
   "metadata": {},
   "source": [
    "### split\n",
    "* Splits the string into a list of substrings, using the specified separator. By default, it splits by whitespace."
   ]
  },
  {
   "cell_type": "code",
   "execution_count": 16,
   "metadata": {},
   "outputs": [
    {
     "name": "stdout",
     "output_type": "stream",
     "text": [
      "Syed Emmad Ahmed\n",
      "['Syed', 'Emmad', 'Ahmed']\n"
     ]
    }
   ],
   "source": [
    "# convert each word into list, space determine the element in list\n",
    "name: str =\"Syed Emmad Ahmed\"\n",
    "print(name)\n",
    "print(name.split(\" \"))"
   ]
  },
  {
   "cell_type": "code",
   "execution_count": 18,
   "metadata": {},
   "outputs": [
    {
     "name": "stdout",
     "output_type": "stream",
     "text": [
      "Intoduction to js\n",
      "Introduction to react\n"
     ]
    }
   ],
   "source": [
    "#  capitalize method capital all first character and the remaining converted into lower\n",
    "blogheading: str = \"intoduction to js\"\n",
    "print(blogheading.capitalize())\n",
    "\n",
    "# remaining convert into lower\n",
    "blogheading2 : str = \"introDuction to reacT\"\n",
    "print(blogheading2.capitalize())"
   ]
  },
  {
   "cell_type": "code",
   "execution_count": 19,
   "metadata": {},
   "outputs": [
    {
     "name": "stdout",
     "output_type": "stream",
     "text": [
      "5\n",
      "                      Emmad                       \n",
      "50\n"
     ]
    }
   ],
   "source": [
    "name: str = \"Emmad\"\n",
    "print(len(name))\n",
    "print(name.center(50))\n",
    "print(len(name.center(50)))"
   ]
  },
  {
   "cell_type": "code",
   "execution_count": 21,
   "metadata": {},
   "outputs": [
    {
     "name": "stdout",
     "output_type": "stream",
     "text": [
      "5\n"
     ]
    }
   ],
   "source": [
    "message: str = \"there is soo much emmad and every where is emmad look like emmad and handsome like emmad like every where emmad\"\n",
    "print(message.count(\"emmad\"))"
   ]
  },
  {
   "cell_type": "markdown",
   "metadata": {},
   "source": [
    "### startdwith(prefix)\n",
    "* Checks if the string starts with the specified prefix."
   ]
  },
  {
   "cell_type": "code",
   "execution_count": 6,
   "metadata": {},
   "outputs": [
    {
     "name": "stdout",
     "output_type": "stream",
     "text": [
      "True\n"
     ]
    }
   ],
   "source": [
    "detail: str = \"hello there  this is emmad and you name is what\"\n",
    "print(detail.startswith(\"hello\"))"
   ]
  },
  {
   "cell_type": "markdown",
   "metadata": {},
   "source": [
    "### endswith(suffix)\n",
    "* Checks if the string ends with the specified suffix."
   ]
  },
  {
   "cell_type": "code",
   "execution_count": 22,
   "metadata": {},
   "outputs": [
    {
     "name": "stdout",
     "output_type": "stream",
     "text": [
      "True\n"
     ]
    }
   ],
   "source": [
    "detail: str = \"hello there  this is emmad and you name is what\"\n",
    "print(detail.endswith(\"what\"))"
   ]
  },
  {
   "cell_type": "code",
   "execution_count": 43,
   "metadata": {},
   "outputs": [
    {
     "name": "stdout",
     "output_type": "stream",
     "text": [
      "47\n",
      "False\n"
     ]
    }
   ],
   "source": [
    "detail: str = \"hello there  this is emmad and you name is what\"\n",
    "print(len(detail))\n",
    "print(detail.endswith(\"there\",6,12))"
   ]
  },
  {
   "cell_type": "markdown",
   "metadata": {},
   "source": [
    "### find\n",
    "*  Returns the position of the first occurrence of the specified substring. Returns -1 if the substring is not found."
   ]
  },
  {
   "cell_type": "code",
   "execution_count": 48,
   "metadata": {},
   "outputs": [
    {
     "name": "stdout",
     "output_type": "stream",
     "text": [
      "15\n",
      "-1\n"
     ]
    }
   ],
   "source": [
    "detail: str = \"hello there  this is emmad and you name is what\"\n",
    "print(detail.find(\"is\"))\n",
    "print(detail.find(\"ishh\"))"
   ]
  },
  {
   "cell_type": "markdown",
   "metadata": {},
   "source": [
    "### index\n",
    "* Returns the position of the first occurrence of the specified substring. Raises an error if the substring is not found."
   ]
  },
  {
   "cell_type": "code",
   "execution_count": 51,
   "metadata": {},
   "outputs": [
    {
     "name": "stdout",
     "output_type": "stream",
     "text": [
      "15\n"
     ]
    }
   ],
   "source": [
    "detail: str = \"hello there  this is emmad and you name is what\"\n",
    "print(detail.index(\"is\"))\n",
    "# print(detail.index(\"ishh\"))\n"
   ]
  },
  {
   "cell_type": "markdown",
   "metadata": {},
   "source": [
    "### isalnum\n",
    "*  Checks if all characters in the string are alphanumeric (letters or digits)."
   ]
  },
  {
   "cell_type": "code",
   "execution_count": 12,
   "metadata": {},
   "outputs": [
    {
     "name": "stdout",
     "output_type": "stream",
     "text": [
      "True\n",
      "True\n"
     ]
    }
   ],
   "source": [
    "detail: str = \"hellotherethis\"\n",
    "print(detail.isalnum())\n",
    "data: str = \"hellotherethis6\"\n",
    "print(data.isalnum())"
   ]
  },
  {
   "cell_type": "markdown",
   "metadata": {},
   "source": [
    "### isalpha\n",
    "*  Checks if all characters in the string are alphabetic (only letters)."
   ]
  },
  {
   "cell_type": "code",
   "execution_count": 63,
   "metadata": {},
   "outputs": [
    {
     "name": "stdout",
     "output_type": "stream",
     "text": [
      "True\n",
      "False\n"
     ]
    }
   ],
   "source": [
    "detail: str = \"hellotherethis\"\n",
    "print(detail.isalpha())\n",
    "data: str = \"hellotherethis6\"\n",
    "print(data.isalpha())"
   ]
  },
  {
   "cell_type": "code",
   "execution_count": 66,
   "metadata": {},
   "outputs": [
    {
     "name": "stdout",
     "output_type": "stream",
     "text": [
      "True\n"
     ]
    }
   ],
   "source": [
    "str1 : str = \"hello world\"\n",
    "print(str1.islower())"
   ]
  },
  {
   "cell_type": "code",
   "execution_count": 67,
   "metadata": {},
   "outputs": [
    {
     "name": "stdout",
     "output_type": "stream",
     "text": [
      "False\n"
     ]
    }
   ],
   "source": [
    "str1 : str = \"hello worlD\"\n",
    "print(str1.islower())"
   ]
  },
  {
   "cell_type": "markdown",
   "metadata": {},
   "source": [
    "### isprintable\n",
    "* The isprintable() method checks if all characters in a string are printable. It returns True if all characters are printable or if the string is empty; otherwise, it returns False."
   ]
  },
  {
   "cell_type": "code",
   "execution_count": 68,
   "metadata": {},
   "outputs": [
    {
     "name": "stdout",
     "output_type": "stream",
     "text": [
      "True\n"
     ]
    }
   ],
   "source": [
    "str2: str = \"We will meet you \"\n",
    "print(str2.isprintable())"
   ]
  },
  {
   "cell_type": "code",
   "execution_count": 69,
   "metadata": {},
   "outputs": [
    {
     "name": "stdout",
     "output_type": "stream",
     "text": [
      "False\n"
     ]
    }
   ],
   "source": [
    "str2: str = \"We will meet \\t you \"\n",
    "print(str2.isprintable())"
   ]
  },
  {
   "cell_type": "markdown",
   "metadata": {},
   "source": [
    "### isspace\n",
    "* Checks if the string consists of only whitespace characters."
   ]
  },
  {
   "cell_type": "code",
   "execution_count": 70,
   "metadata": {},
   "outputs": [
    {
     "name": "stdout",
     "output_type": "stream",
     "text": [
      "False\n"
     ]
    }
   ],
   "source": [
    "str3: str = \"Syed Emmad Ahmed\"\n",
    "print(str3.isspace())"
   ]
  },
  {
   "cell_type": "code",
   "execution_count": 75,
   "metadata": {},
   "outputs": [
    {
     "name": "stdout",
     "output_type": "stream",
     "text": [
      "True\n"
     ]
    }
   ],
   "source": [
    "str3: str = \"                \"\n",
    "print(str3.isspace())"
   ]
  },
  {
   "cell_type": "code",
   "execution_count": 1,
   "metadata": {},
   "outputs": [
    {
     "name": "stdout",
     "output_type": "stream",
     "text": [
      "True\n"
     ]
    }
   ],
   "source": [
    "name: str = \"Syed Emmad Ahmed\"\n",
    "print(name.istitle())"
   ]
  },
  {
   "cell_type": "code",
   "execution_count": 2,
   "metadata": {},
   "outputs": [
    {
     "name": "stdout",
     "output_type": "stream",
     "text": [
      "False\n"
     ]
    }
   ],
   "source": [
    "name: str = \"Syed emmad Ahmed\"\n",
    "print(name.istitle())"
   ]
  },
  {
   "cell_type": "code",
   "execution_count": 3,
   "metadata": {},
   "outputs": [
    {
     "name": "stdout",
     "output_type": "stream",
     "text": [
      "False\n"
     ]
    }
   ],
   "source": [
    "name: str = \"Syed Emmad Ahmed\"\n",
    "print(name.islower())"
   ]
  },
  {
   "cell_type": "code",
   "execution_count": 5,
   "metadata": {},
   "outputs": [
    {
     "name": "stdout",
     "output_type": "stream",
     "text": [
      "True\n"
     ]
    }
   ],
   "source": [
    "name: str = \"syed emmad ahmed\"\n",
    "print(name.islower())"
   ]
  },
  {
   "cell_type": "markdown",
   "metadata": {},
   "source": [
    "### swapcase \n",
    "* Swaps the case of all characters in the string (lowercase to uppercase and vice versa)."
   ]
  },
  {
   "cell_type": "code",
   "execution_count": 7,
   "metadata": {},
   "outputs": [
    {
     "name": "stdout",
     "output_type": "stream",
     "text": [
      "SYED EMMAD AHMED\n"
     ]
    }
   ],
   "source": [
    "name: str = \"syed emmad ahmed\"\n",
    "print(name.swapcase())"
   ]
  },
  {
   "cell_type": "code",
   "execution_count": 8,
   "metadata": {},
   "outputs": [
    {
     "name": "stdout",
     "output_type": "stream",
     "text": [
      "sYED eMMAD aHMED\n"
     ]
    }
   ],
   "source": [
    "name: str = \"Syed Emmad Ahmed\"\n",
    "print(name.swapcase())"
   ]
  },
  {
   "cell_type": "code",
   "execution_count": 9,
   "metadata": {},
   "outputs": [
    {
     "name": "stdout",
     "output_type": "stream",
     "text": [
      "syed emmad ahmed\n"
     ]
    }
   ],
   "source": [
    "name: str = \"SYED EMMAD AHMED\"\n",
    "print(name.swapcase())"
   ]
  },
  {
   "cell_type": "code",
   "execution_count": 10,
   "metadata": {},
   "outputs": [
    {
     "name": "stdout",
     "output_type": "stream",
     "text": [
      "Syed Emmad Ahmed\n"
     ]
    }
   ],
   "source": [
    "name: str = \"syed emmad ahmed\"\n",
    "print(name.title())"
   ]
  },
  {
   "cell_type": "code",
   "execution_count": null,
   "metadata": {},
   "outputs": [],
   "source": []
  }
 ],
 "metadata": {
  "kernelspec": {
   "display_name": "python276",
   "language": "python",
   "name": "python3"
  },
  "language_info": {
   "codemirror_mode": {
    "name": "ipython",
    "version": 3
   },
   "file_extension": ".py",
   "mimetype": "text/x-python",
   "name": "python",
   "nbconvert_exporter": "python",
   "pygments_lexer": "ipython3",
   "version": "3.12.0"
  }
 },
 "nbformat": 4,
 "nbformat_minor": 2
}

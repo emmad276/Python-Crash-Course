{
 "cells": [
  {
   "cell_type": "markdown",
   "metadata": {},
   "source": [
    "# Sring data type in python"
   ]
  },
  {
   "cell_type": "code",
   "execution_count": 2,
   "metadata": {},
   "outputs": [
    {
     "name": "stdout",
     "output_type": "stream",
     "text": [
      "Emmad\n",
      "<class 'str'>\n"
     ]
    }
   ],
   "source": [
    "#  string define in particular boundary\n",
    "#  ' ' , \" \" , ''' ''' , \"\"\"  \"\"\"\n",
    "name: str = \"Emmad\"\n",
    "print(name)\n",
    "print(type(name))\n"
   ]
  },
  {
   "cell_type": "code",
   "execution_count": 5,
   "metadata": {},
   "outputs": [
    {
     "name": "stdout",
     "output_type": "stream",
     "text": [
      "PIAIC Student Card \n",
      "Student name: \n",
      "Father's name: \n"
     ]
    }
   ],
   "source": [
    "#  conver special meaning character into simple character, place \\ befor character \n",
    "message = 'PIAIC Student Card \\nStudent name: \\nFather\\'s name: '\n",
    "print(message)"
   ]
  },
  {
   "cell_type": "markdown",
   "metadata": {},
   "source": [
    "# Concatination\n",
    "* Can only do in String"
   ]
  },
  {
   "cell_type": "code",
   "execution_count": 9,
   "metadata": {},
   "outputs": [
    {
     "name": "stdout",
     "output_type": "stream",
     "text": [
      "PIAIC Student Card \n",
      "Student name: Syed Emmad Ahmed\n",
      "Father name: Syed Tanveer Ahmed\n",
      "Education: Generative AI Specialist\n",
      "Age: 22\n"
     ]
    }
   ],
   "source": [
    "name: str = \"Syed Emmad Ahmed\"\n",
    "fname: str = \"Syed Tanveer Ahmed\"\n",
    "education: str = \"Generative AI Specialist\"\n",
    "age: str = \"22\"\n",
    "\n",
    "card: str = \"PIAIC Student Card \\nStudent name: \" + name + \"\\nFather name: \" + fname + \"\\nEducation: \" + education + \"\\nAge: \" + age\n",
    "print(card)"
   ]
  },
  {
   "cell_type": "code",
   "execution_count": 10,
   "metadata": {},
   "outputs": [
    {
     "name": "stdout",
     "output_type": "stream",
     "text": [
      "14\n"
     ]
    }
   ],
   "source": [
    "#  we can line change by back slash -------> line continue\n",
    "print(7 + \\\n",
    "      3 + \\\n",
    "        4)"
   ]
  },
  {
   "cell_type": "code",
   "execution_count": 12,
   "metadata": {},
   "outputs": [
    {
     "name": "stdout",
     "output_type": "stream",
     "text": [
      "PIAIC Student Card \n",
      "Student name: Syed Emmad Ahmed\n",
      "Father name: Syed Tanveer Ahmed\n",
      "Education: Generative AI Specialist\n",
      "Age: 22\n"
     ]
    }
   ],
   "source": [
    "name: str = \"Syed Emmad Ahmed\"\n",
    "fname: str = \"Syed Tanveer Ahmed\"\n",
    "education: str = \"Generative AI Specialist\"\n",
    "age: str = \"22\"\n",
    "\n",
    "card: str = \"PIAIC Student Card \\nStudent name: \" + name + \\\n",
    "    \"\\nFather name: \" + fname + \\\n",
    "    \"\\nEducation: \" + education + \\\n",
    "        \"\\nAge: \" + age\n",
    "print(card)"
   ]
  },
  {
   "cell_type": "markdown",
   "metadata": {},
   "source": [
    "# Define multiline String\n",
    "* \"\"\"string\"\"\"\n",
    "* '''string'''"
   ]
  },
  {
   "cell_type": "code",
   "execution_count": 17,
   "metadata": {},
   "outputs": [
    {
     "name": "stdout",
     "output_type": "stream",
     "text": [
      "\n",
      "PIAIC STUDENT CARD\n",
      "Name: ....\n",
      "Father name: ....\n",
      "Age: ...\n",
      "\n"
     ]
    }
   ],
   "source": [
    "name: str = \"Syed Emmad Ahmed\"\n",
    "fname: str = \"Syed Tanveer Ahmed\"\n",
    "education: str = \"Generative AI Specialist\"\n",
    "age: str = \"22\"\n",
    "\n",
    "card: str = \"\"\"\n",
    "PIAIC STUDENT CARD\n",
    "Name: ....\n",
    "Father name: ....\n",
    "Age: ...\n",
    "\"\"\"\n",
    "print(card)"
   ]
  },
  {
   "cell_type": "markdown",
   "metadata": {},
   "source": [
    "# fstring"
   ]
  },
  {
   "cell_type": "code",
   "execution_count": 18,
   "metadata": {},
   "outputs": [
    {
     "name": "stdout",
     "output_type": "stream",
     "text": [
      "PIAIC Student Card \n",
      "Student name: Syed Emmad Ahmed\n",
      "Father name: Syed Tanveer Ahmed \n",
      "Education: Generative AI Specialist\n",
      "Age: 22\n",
      "\n"
     ]
    }
   ],
   "source": [
    "name: str = \"Syed Emmad Ahmed\"\n",
    "fname: str = \"Syed Tanveer Ahmed\"\n",
    "education: str = \"Generative AI Specialist\"\n",
    "age: int = 22\n",
    "\n",
    "card: str = f\"\"\"PIAIC Student Card \n",
    "Student name: {name}\n",
    "Father name: {fname} \n",
    "Education: {education}\n",
    "Age: {age}\n",
    "\"\"\"\n",
    "print(card)\n"
   ]
  },
  {
   "cell_type": "markdown",
   "metadata": {},
   "source": []
  },
  {
   "cell_type": "code",
   "execution_count": 19,
   "metadata": {},
   "outputs": [
    {
     "name": "stdout",
     "output_type": "stream",
     "text": [
      "PIAIC Student Card \n",
      "Student name: Syed Emmad Ahmed\n",
      "Father name: Syed Tanveer Ahmed \n",
      "Education: Generative AI Specialist\n",
      "Age: 22\n",
      "\n",
      "\n",
      "Total = 13\n"
     ]
    }
   ],
   "source": [
    "name: str = \"Syed Emmad Ahmed\"\n",
    "fname: str = \"Syed Tanveer Ahmed\"\n",
    "education: str = \"Generative AI Specialist\"\n",
    "age: int = 22\n",
    "\n",
    "card: str = f\"\"\"PIAIC Student Card \n",
    "Student name: {name}\n",
    "Father name: {fname} \n",
    "Education: {education}\n",
    "Age: {age}\n",
    "\n",
    "\n",
    "Total = {2 + 5 + 6}  \n",
    "\"\"\"\n",
    "\n",
    "print(card)\n"
   ]
  },
  {
   "cell_type": "markdown",
   "metadata": {},
   "source": [
    "### F-String and Jinja Style"
   ]
  },
  {
   "cell_type": "code",
   "execution_count": 20,
   "metadata": {},
   "outputs": [
    {
     "data": {
      "text/plain": [
       "'\\nStudent name: Syed Emmad Ahmed\\n'"
      ]
     },
     "execution_count": 20,
     "metadata": {},
     "output_type": "execute_result"
    }
   ],
   "source": [
    "# Fstring Style\n",
    "f\"\"\"\n",
    "Student name: {name}\n",
    "\"\"\""
   ]
  },
  {
   "cell_type": "code",
   "execution_count": 21,
   "metadata": {},
   "outputs": [
    {
     "data": {
      "text/plain": [
       "'\\nStudent name {{name}}\\n'"
      ]
     },
     "execution_count": 21,
     "metadata": {},
     "output_type": "execute_result"
    }
   ],
   "source": [
    "#  Jinja Style\n",
    "\"\"\"\n",
    "Student name {{name}}\n",
    "\"\"\""
   ]
  },
  {
   "cell_type": "markdown",
   "metadata": {},
   "source": [
    "#### old Method use in C language"
   ]
  },
  {
   "cell_type": "code",
   "execution_count": 23,
   "metadata": {},
   "outputs": [
    {
     "name": "stdout",
     "output_type": "stream",
     "text": [
      "\n",
      "PIAIC Student Card\n",
      "Name: Syed Emmad Ahmed\n",
      "Father name: Syed Tanveer Ahmed\n",
      "Age: 22\n",
      "Education: Generative AI Specialist\n",
      "\n",
      "\n"
     ]
    }
   ],
   "source": [
    "name: str = \"Syed Emmad Ahmed\"\n",
    "fname: str = \"Syed Tanveer Ahmed\"\n",
    "education: str = \"Generative AI Specialist\"\n",
    "age: int = 22\n",
    "\n",
    "card : str = f\"\"\"\n",
    "PIAIC Student Card\n",
    "Name: %s\n",
    "Father name: %s\n",
    "Age: %d\n",
    "Education: %s\n",
    "\n",
    "\"\"\"% (name, fname, age, education)\n",
    "print(card)"
   ]
  },
  {
   "cell_type": "code",
   "execution_count": 24,
   "metadata": {},
   "outputs": [
    {
     "data": {
      "text/plain": [
       "['capitalize',\n",
       " 'casefold',\n",
       " 'center',\n",
       " 'count',\n",
       " 'encode',\n",
       " 'endswith',\n",
       " 'expandtabs',\n",
       " 'find',\n",
       " 'format',\n",
       " 'format_map',\n",
       " 'index',\n",
       " 'isalnum',\n",
       " 'isalpha',\n",
       " 'isascii',\n",
       " 'isdecimal',\n",
       " 'isdigit',\n",
       " 'isidentifier',\n",
       " 'islower',\n",
       " 'isnumeric',\n",
       " 'isprintable',\n",
       " 'isspace',\n",
       " 'istitle',\n",
       " 'isupper',\n",
       " 'join',\n",
       " 'ljust',\n",
       " 'lower',\n",
       " 'lstrip',\n",
       " 'maketrans',\n",
       " 'partition',\n",
       " 'removeprefix',\n",
       " 'removesuffix',\n",
       " 'replace',\n",
       " 'rfind',\n",
       " 'rindex',\n",
       " 'rjust',\n",
       " 'rpartition',\n",
       " 'rsplit',\n",
       " 'rstrip',\n",
       " 'split',\n",
       " 'splitlines',\n",
       " 'startswith',\n",
       " 'strip',\n",
       " 'swapcase',\n",
       " 'title',\n",
       " 'translate',\n",
       " 'upper',\n",
       " 'zfill']"
      ]
     },
     "execution_count": 24,
     "metadata": {},
     "output_type": "execute_result"
    }
   ],
   "source": [
    "[i for i in dir(str) if \"__\" not in i]"
   ]
  },
  {
   "cell_type": "markdown",
   "metadata": {},
   "source": [
    "### Format method"
   ]
  },
  {
   "cell_type": "code",
   "execution_count": 25,
   "metadata": {},
   "outputs": [
    {
     "data": {
      "text/plain": [
       "'Pakistan value a = 2 and value b = 4 '"
      ]
     },
     "execution_count": 25,
     "metadata": {},
     "output_type": "execute_result"
    }
   ],
   "source": [
    "a= 2\n",
    "b= 4\n",
    "# {} placeholer\n",
    "\"Pakistan value a = {} and value b = {} \".format(a,b)"
   ]
  },
  {
   "cell_type": "code",
   "execution_count": 26,
   "metadata": {},
   "outputs": [
    {
     "name": "stdout",
     "output_type": "stream",
     "text": [
      "PIAIC Student Card \n",
      "Student name: Syed Emmad Ahmed\n",
      "Father name: Syed Tanveer Ahmed \n",
      "Education: Generative AI Specialist\n",
      "Age: 22\n",
      "\n"
     ]
    }
   ],
   "source": [
    "name: str = \"Syed Emmad Ahmed\"\n",
    "fname: str = \"Syed Tanveer Ahmed\"\n",
    "education: str = \"Generative AI Specialist\"\n",
    "age: int = 22\n",
    "\n",
    "card: str = \"\"\"PIAIC Student Card \n",
    "Student name: {}\n",
    "Father name: {} \n",
    "Education: {}\n",
    "Age: {}\n",
    "\"\"\".format(name, fname, education, age)\n",
    "print(card)\n"
   ]
  },
  {
   "cell_type": "code",
   "execution_count": 27,
   "metadata": {},
   "outputs": [
    {
     "name": "stdout",
     "output_type": "stream",
     "text": [
      "PIAIC Student Card \n",
      "Student name: Syed Emmad Ahmed\n",
      "Father name: Syed Tanveer Ahmed \n",
      "Education: Generative AI Specialist\n",
      "Age: 22\n",
      "\n"
     ]
    }
   ],
   "source": [
    "name: str = \"Syed Emmad Ahmed\"\n",
    "fname: str = \"Syed Tanveer Ahmed\"\n",
    "education: str = \"Generative AI Specialist\"\n",
    "age: int = 22\n",
    "\n",
    "card: str = \"\"\"PIAIC Student Card \n",
    "Student name: {2}\n",
    "Father name: {0} \n",
    "Education: {3}\n",
    "Age: {1}\n",
    "\"\"\".format(fname, age, name, education)\n",
    "print(card)\n"
   ]
  },
  {
   "cell_type": "code",
   "execution_count": 28,
   "metadata": {},
   "outputs": [
    {
     "name": "stdout",
     "output_type": "stream",
     "text": [
      "PIAIC Student Card \n",
      "Student name: Syed Emmad Ahmed\n",
      "Father name: Syed Tanveer Ahmed \n",
      "Education: Generative AI Specialist\n",
      "Age: 22\n",
      "\n"
     ]
    }
   ],
   "source": [
    "name: str = \"Syed Emmad Ahmed\"\n",
    "fname: str = \"Syed Tanveer Ahmed\"\n",
    "education: str = \"Generative AI Specialist\"\n",
    "age: int = 22\n",
    "\n",
    "card: str = \"\"\"PIAIC Student Card \n",
    "Student name: {a}\n",
    "Father name: {b} \n",
    "Education: {c}\n",
    "Age: {d}\n",
    "\"\"\".format(a=name, b=fname,c=education , d=age)\n",
    "print(card)"
   ]
  },
  {
   "cell_type": "markdown",
   "metadata": {},
   "source": [
    "## Recommended"
   ]
  },
  {
   "cell_type": "code",
   "execution_count": 29,
   "metadata": {},
   "outputs": [
    {
     "name": "stdout",
     "output_type": "stream",
     "text": [
      "PIAIC Student Card \n",
      "Student name: Syed Emmad Ahmed\n",
      "Father name: Syed Tanveer Ahmed \n",
      "Education: Generative AI Specialist\n",
      "Age: 22\n",
      "\n"
     ]
    }
   ],
   "source": [
    "name: str = \"Syed Emmad Ahmed\"\n",
    "fname: str = \"Syed Tanveer Ahmed\"\n",
    "education: str = \"Generative AI Specialist\"\n",
    "age: int = 22\n",
    "\n",
    "card: str = f\"\"\"PIAIC Student Card \n",
    "Student name: {name}\n",
    "Father name: {fname} \n",
    "Education: {education}\n",
    "Age: {age}\n",
    "\"\"\"\n",
    "print(card)\n"
   ]
  },
  {
   "cell_type": "code",
   "execution_count": 30,
   "metadata": {},
   "outputs": [
    {
     "name": "stdout",
     "output_type": "stream",
     "text": [
      "PIAIC Student Card \n",
      "Student name: Syed Emmad Ahmed\n",
      "Father name: Syed Tanveer Ahmed \n",
      "Education: Generative AI Specialist\n",
      "Age: 22\n",
      "\n"
     ]
    }
   ],
   "source": [
    "name: str = \"Syed Emmad Ahmed\"\n",
    "fname: str = \"Syed Tanveer Ahmed\"\n",
    "education: str = \"Generative AI Specialist\"\n",
    "age: int = 22\n",
    "\n",
    "card: str = \"\"\"PIAIC Student Card \n",
    "Student name: {a}\n",
    "Father name: {b} \n",
    "Education: {c}\n",
    "Age: {d}\n",
    "\"\"\".format(a=name, b=fname,c=education , d=age)\n",
    "print(card)"
   ]
  },
  {
   "cell_type": "code",
   "execution_count": 35,
   "metadata": {},
   "outputs": [
    {
     "name": "stdout",
     "output_type": "stream",
     "text": [
      "My name in Emmad\n",
      "7\n"
     ]
    }
   ],
   "source": [
    "student_code : str = \"\"\"\n",
    "print(\"My name in Emmad\")\n",
    "a : int = 1\n",
    "b : int = 6\n",
    "print(a + b)\n",
    "\"\"\"\n",
    "\n",
    "exec(student_code)"
   ]
  },
  {
   "cell_type": "markdown",
   "metadata": {},
   "source": [
    "### Explore String Methods and attributes\n"
   ]
  },
  {
   "cell_type": "code",
   "execution_count": 37,
   "metadata": {},
   "outputs": [
    {
     "data": {
      "text/plain": [
       "['capitalize',\n",
       " 'casefold',\n",
       " 'center',\n",
       " 'count',\n",
       " 'encode',\n",
       " 'endswith',\n",
       " 'expandtabs',\n",
       " 'find',\n",
       " 'format',\n",
       " 'format_map',\n",
       " 'index',\n",
       " 'isalnum',\n",
       " 'isalpha',\n",
       " 'isascii',\n",
       " 'isdecimal',\n",
       " 'isdigit',\n",
       " 'isidentifier',\n",
       " 'islower',\n",
       " 'isnumeric',\n",
       " 'isprintable',\n",
       " 'isspace',\n",
       " 'istitle',\n",
       " 'isupper',\n",
       " 'join',\n",
       " 'ljust',\n",
       " 'lower',\n",
       " 'lstrip',\n",
       " 'maketrans',\n",
       " 'partition',\n",
       " 'removeprefix',\n",
       " 'removesuffix',\n",
       " 'replace',\n",
       " 'rfind',\n",
       " 'rindex',\n",
       " 'rjust',\n",
       " 'rpartition',\n",
       " 'rsplit',\n",
       " 'rstrip',\n",
       " 'split',\n",
       " 'splitlines',\n",
       " 'startswith',\n",
       " 'strip',\n",
       " 'swapcase',\n",
       " 'title',\n",
       " 'translate',\n",
       " 'upper',\n",
       " 'zfill']"
      ]
     },
     "execution_count": 37,
     "metadata": {},
     "output_type": "execute_result"
    }
   ],
   "source": [
    "[i for i in dir(str) if \"__\" not in i]"
   ]
  },
  {
   "cell_type": "code",
   "execution_count": 39,
   "metadata": {},
   "outputs": [
    {
     "name": "stdout",
     "output_type": "stream",
     "text": [
      "syed emmad ahmed\n",
      "Syed emmad ahmed\n"
     ]
    }
   ],
   "source": [
    "name: str = \"syed emmad ahmed\"\n",
    "print(name)\n",
    "print(name.capitalize())"
   ]
  },
  {
   "cell_type": "code",
   "execution_count": 41,
   "metadata": {},
   "outputs": [
    {
     "name": "stdout",
     "output_type": "stream",
     "text": [
      "syed emmad ahmed\n",
      "syed emmad ahmed\n"
     ]
    }
   ],
   "source": [
    "name: str = \"syed emmad ahmed\"\n",
    "print(name)\n",
    "print(name.casefold()) # kamm same but logic alag hay\n",
    "# casefold ye kheta haike kisi bhi case ko follow nahi kerna"
   ]
  },
  {
   "cell_type": "code",
   "execution_count": 42,
   "metadata": {},
   "outputs": [
    {
     "name": "stdout",
     "output_type": "stream",
     "text": [
      "syed emmad ahmed\n",
      "syed emmad ahmed\n"
     ]
    }
   ],
   "source": [
    "name: str = \"syed emmad ahmed\"\n",
    "print(name)\n",
    "print(name.lower()) # kamm same but logic alag hay\n",
    "# lowercase subko chota kerdeta hay"
   ]
  },
  {
   "cell_type": "code",
   "execution_count": 44,
   "metadata": {},
   "outputs": [
    {
     "name": "stdout",
     "output_type": "stream",
     "text": [
      "     syed emmad ahmed     \n",
      "syed emmad ahmed     \n"
     ]
    }
   ],
   "source": [
    "name: str = \"     syed emmad ahmed     \"\n",
    "display(name)\n",
    "display(name.lstrip())"
   ]
  },
  {
   "cell_type": "code",
   "execution_count": 45,
   "metadata": {},
   "outputs": [
    {
     "data": {
      "text/plain": [
       "'     syed emmad ahmed     '"
      ]
     },
     "metadata": {},
     "output_type": "display_data"
    },
    {
     "data": {
      "text/plain": [
       "'     syed emmad ahmed'"
      ]
     },
     "metadata": {},
     "output_type": "display_data"
    }
   ],
   "source": [
    "name: str = \"     syed emmad ahmed     \"\n",
    "display(name)\n",
    "display(name.rstrip())"
   ]
  },
  {
   "cell_type": "code",
   "execution_count": 46,
   "metadata": {},
   "outputs": [
    {
     "data": {
      "text/plain": [
       "'     syed emmad ahmed     '"
      ]
     },
     "metadata": {},
     "output_type": "display_data"
    },
    {
     "data": {
      "text/plain": [
       "'syed emmad ahmed'"
      ]
     },
     "metadata": {},
     "output_type": "display_data"
    }
   ],
   "source": [
    "name: str = \"     syed emmad ahmed     \"\n",
    "display(name)\n",
    "display(name.strip())"
   ]
  },
  {
   "cell_type": "code",
   "execution_count": 47,
   "metadata": {},
   "outputs": [
    {
     "data": {
      "text/plain": [
       "'  syed             emmad    ahmed     '"
      ]
     },
     "metadata": {},
     "output_type": "display_data"
    },
    {
     "data": {
      "text/plain": [
       "' syed emmad ahmed '"
      ]
     },
     "metadata": {},
     "output_type": "display_data"
    }
   ],
   "source": [
    "# Regex Expression------> to remove spaces \n",
    "\n",
    "import re\n",
    "name: str = \"  syed             emmad    ahmed     \"\n",
    "display(name)\n",
    "name1: str =re.sub(' {2,100}' , \" \", name)\n",
    "display(name1)"
   ]
  },
  {
   "cell_type": "code",
   "execution_count": 49,
   "metadata": {},
   "outputs": [
    {
     "data": {
      "text/plain": [
       "'  syed             emmad    ahmed     '"
      ]
     },
     "metadata": {},
     "output_type": "display_data"
    },
    {
     "data": {
      "text/plain": [
       "'syed emmad ahmed'"
      ]
     },
     "metadata": {},
     "output_type": "display_data"
    }
   ],
   "source": [
    "# Regex Expression------> to remove spaces \n",
    "\n",
    "import re\n",
    "name: str = \"  syed             emmad    ahmed     \"\n",
    "display(name)\n",
    "name1: str =re.sub(' {2,100}' , \" \", name).strip()\n",
    "display(name1)"
   ]
  },
  {
   "cell_type": "code",
   "execution_count": 50,
   "metadata": {},
   "outputs": [
    {
     "name": "stdout",
     "output_type": "stream",
     "text": [
      "syed emmad ahmed\n",
      "Syed Emmad Ahmed\n"
     ]
    }
   ],
   "source": [
    "name: str = \"syed emmad ahmed\"\n",
    "print(name)\n",
    "print(name.title())"
   ]
  },
  {
   "cell_type": "code",
   "execution_count": 52,
   "metadata": {},
   "outputs": [
    {
     "name": "stdout",
     "output_type": "stream",
     "text": [
      "syed emmad ahmed\n",
      "SYED EMMAD AHMED\n",
      "syed emmad ahmed\n"
     ]
    }
   ],
   "source": [
    "name: str = \"syed emmad ahmed\"\n",
    "print(name)\n",
    "print(name.upper())\n",
    "print(name.lower())"
   ]
  },
  {
   "cell_type": "code",
   "execution_count": null,
   "metadata": {},
   "outputs": [],
   "source": [
    "# Special meaning character\n",
    "# \\n\n",
    "# \\t\n",
    "# \\b"
   ]
  },
  {
   "cell_type": "code",
   "execution_count": 53,
   "metadata": {},
   "outputs": [
    {
     "name": "stdout",
     "output_type": "stream",
     "text": [
      "\n",
      "Emmad\n"
     ]
    }
   ],
   "source": [
    "name: str = \"\\nEmmad\"\n",
    "print(name)"
   ]
  },
  {
   "cell_type": "code",
   "execution_count": 54,
   "metadata": {},
   "outputs": [
    {
     "name": "stdout",
     "output_type": "stream",
     "text": [
      "\t \t Emmad\n"
     ]
    }
   ],
   "source": [
    "name: str = \"\\t \\t Emmad\"\n",
    "print(name)"
   ]
  },
  {
   "cell_type": "code",
   "execution_count": 55,
   "metadata": {},
   "outputs": [
    {
     "name": "stdout",
     "output_type": "stream",
     "text": [
      "NameEmmad\n"
     ]
    }
   ],
   "source": [
    "name: str = \"Name:\\bEmmad\"\n",
    "print(name)"
   ]
  },
  {
   "cell_type": "code",
   "execution_count": 58,
   "metadata": {},
   "outputs": [
    {
     "data": {
      "text/plain": [
       "'google.com'"
      ]
     },
     "execution_count": 58,
     "metadata": {},
     "output_type": "execute_result"
    }
   ],
   "source": [
    "url : str = \"https://google.com\"\n",
    "url.removeprefix(\"https://\")\n",
    "# url.removesuffix(\".com\")"
   ]
  }
 ],
 "metadata": {
  "kernelspec": {
   "display_name": "python276",
   "language": "python",
   "name": "python3"
  },
  "language_info": {
   "codemirror_mode": {
    "name": "ipython",
    "version": 3
   },
   "file_extension": ".py",
   "mimetype": "text/x-python",
   "name": "python",
   "nbconvert_exporter": "python",
   "pygments_lexer": "ipython3",
   "version": "3.12.0"
  }
 },
 "nbformat": 4,
 "nbformat_minor": 2
}

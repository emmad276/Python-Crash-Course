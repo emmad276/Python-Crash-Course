{
 "cells": [
  {
   "cell_type": "code",
   "execution_count": 1,
   "metadata": {},
   "outputs": [
    {
     "data": {
      "text/plain": [
       "'Syed Emmad'"
      ]
     },
     "execution_count": 1,
     "metadata": {},
     "output_type": "execute_result"
    }
   ],
   "source": [
    "data: list[str] = [\"Syed Emmad\",\"Syed Tanveer\",\"D Pharm\"]\n",
    "data[0]"
   ]
  },
  {
   "cell_type": "code",
   "execution_count": 3,
   "metadata": {},
   "outputs": [
    {
     "data": {
      "text/plain": [
       "{1, 2, 3, 4, 5, 6}"
      ]
     },
     "execution_count": 3,
     "metadata": {},
     "output_type": "execute_result"
    }
   ],
   "source": [
    "data : set = {1,2,3,4,4,5,6,5,4,3,2,1,3,4,6,6,4,3,2}\n",
    "data             # return unique value\n",
    "                  # for iteration we convert set into list"
   ]
  },
  {
   "cell_type": "markdown",
   "metadata": {},
   "source": [
    "# Dictionary\n",
    "* key : value pair (items)\n",
    "    * key replacement of indexes\n",
    "    * value \n",
    "\n",
    "\n",
    "* how to print\n",
    "    * dict_variable[key]\n",
    "    * dict_variable[new_key] = new_key\n",
    "        * add new value\n",
    "        * update vale"
   ]
  },
  {
   "cell_type": "code",
   "execution_count": 7,
   "metadata": {},
   "outputs": [
    {
     "data": {
      "text/plain": [
       "{'name': 'Syed Emmad', 'fname': 'Syed Tanveer', 'age': '30'}"
      ]
     },
     "metadata": {},
     "output_type": "display_data"
    },
    {
     "name": "stdout",
     "output_type": "stream",
     "text": [
      "{'age': '30', 'fname': 'Syed Tanveer', 'name': 'Syed Emmad'}\n"
     ]
    }
   ],
   "source": [
    "from typing import Dict\n",
    "import pprint\n",
    "data : dict[str, str] = {\n",
    "    \"name\": \"Syed Emmad\",\n",
    "    \"fname\": \"Syed Tanveer\",\n",
    "    \"age\": \"30\"\n",
    "}\n",
    "display(data)\n",
    "pprint.pprint(data)\n",
    "\n"
   ]
  },
  {
   "cell_type": "code",
   "execution_count": 8,
   "metadata": {},
   "outputs": [
    {
     "name": "stdout",
     "output_type": "stream",
     "text": [
      "Syed Emmad\n",
      "Syed Tanveer\n",
      "30\n"
     ]
    }
   ],
   "source": [
    "from typing import Dict, Union, Optional\n",
    "\n",
    "# create custom type\n",
    "Key = Union[int, str] \n",
    "Value = Union[str,int,list, dict, set]\n",
    "\n",
    "data : dict[Key, Value] = {\n",
    "    \"name\": \"Syed Emmad\",\n",
    "    \"fname\": \"Syed Tanveer\",\n",
    "    \"age\": \"30\"\n",
    "}\n",
    "\n",
    "print(data[\"name\"])\n",
    "print(data[\"fname\"])\n",
    "print(data[\"age\"])"
   ]
  },
  {
   "cell_type": "code",
   "execution_count": null,
   "metadata": {},
   "outputs": [],
   "source": [
    "from typing import Dict, Union, Optional\n",
    "\n",
    "# create custom type\n",
    "Key = Union[int, str] \n",
    "Value = Union[str,int,list, dict, set]\n",
    "\n",
    "data : dict[Key, Value] = {\n",
    "    \"name\": \"Syed Emmad\",\n",
    "    \"fname\": \"Syed Tanveer\",\n",
    "    \"age\": \"30\"\n",
    "}\n",
    "\n",
    "print(data[\"name\"])\n",
    "print(data[\"fname\"])\n",
    "print(data[\"age\"])"
   ]
  },
  {
   "cell_type": "code",
   "execution_count": 11,
   "metadata": {},
   "outputs": [
    {
     "name": "stdout",
     "output_type": "stream",
     "text": [
      "Syed Emmad\n",
      "Syed Tanveer\n",
      "30\n",
      "pakistan\n",
      "emmad\n"
     ]
    }
   ],
   "source": [
    "from typing import Dict, Union, Optional\n",
    "\n",
    "# create custom type\n",
    "Key = Union[int, str] \n",
    "Value = Union[str,int,list, dict, set]\n",
    "\n",
    "data : dict[Key, Value] = {\n",
    "    \"name\": \"Syed Emmad\",\n",
    "    \"fname\": \"Syed Tanveer\",\n",
    "    \"age\": \"30\",\n",
    "    100: \"pakistan\",\n",
    "    \"detail\": [\"emmad\", \"tanveer\"]\n",
    "}\n",
    "\n",
    "print(data[\"name\"])\n",
    "print(data[\"fname\"])\n",
    "print(data[\"age\"])\n",
    "print(data[100])\n",
    "print(data[\"detail\"][0])"
   ]
  },
  {
   "cell_type": "code",
   "execution_count": 21,
   "metadata": {},
   "outputs": [
    {
     "name": "stdout",
     "output_type": "stream",
     "text": [
      "['emmad', 'tanveer']\n",
      "(1, 2, 3)\n",
      "{'a': 1, 'b': 1}\n",
      "{1, 2, 4}\n",
      "val\n"
     ]
    }
   ],
   "source": [
    "from typing import Dict, Union, Optional\n",
    "\n",
    "# create custom type\n",
    "Key = Union[int, str, list, tuple, set] \n",
    "Value = Union[str,int,list, dict, set]\n",
    "\n",
    "data : dict[Key, Value] = {\n",
    "    \"name\": \"Syed Emmad\",\n",
    "    \"fname\": \"Syed Tanveer\",\n",
    "    \"age\": \"30\",\n",
    "    100: \"pakistan\",\n",
    "    \"detail\": [\"emmad\", \"tanveer\"],\n",
    "     \"abc\" : (1,2,3), #  value = tuple\n",
    "    'efg': {\"a\":1,\"b\":1}, # value = dict \n",
    "    \"hij\": {1,2,4}, # value = set\n",
    "\n",
    "    (1,2,3) : \"val\", # key = tuple\n",
    "    # [1,2,3] : \"val\"   error due to unhashable type     key = list\n",
    "    \n",
    "    # {1,2,3}: \"pak\"     error due to unhashable        key = set\n",
    "}\n",
    "\n",
    "\n",
    "\n",
    "print(data[\"detail\"]) # excess value = list\n",
    "print(data[\"abc\"]) # excess value = tuple\n",
    "print(data[\"efg\"]) # excess value = dict\n",
    "print(data[\"hij\"])   # excess value = set\n",
    "print(data[(1,2,3)]) # excess key  = set"
   ]
  },
  {
   "cell_type": "code",
   "execution_count": 22,
   "metadata": {},
   "outputs": [
    {
     "name": "stdout",
     "output_type": "stream",
     "text": [
      "{'name': 'Syed Emmad', 'fname': 'Sye Tanveer', 'education': 'D pharm'}\n"
     ]
    }
   ],
   "source": [
    "from typing import Dict, Union, Optional\n",
    "\n",
    "# create custom type\n",
    "Key = Union[int, str, list, tuple, set] \n",
    "Value = Union[str,int,list, dict, set]\n",
    "\n",
    "data : dict[Key, Value] = {}\n",
    "data[\"name\"] = \"Syed Emmad\"\n",
    "data[\"fname\"] = \"Sye Tanveer\"\n",
    "data[\"education\"] = \"D pharm\"\n",
    "\n",
    "print(data)\n",
    " "
   ]
  },
  {
   "cell_type": "code",
   "execution_count": 23,
   "metadata": {},
   "outputs": [
    {
     "name": "stdout",
     "output_type": "stream",
     "text": [
      "{'name': 'Syed Ibad', 'fname': 'Syed Tanveer', 'age': '30', 'education': 'D pharm'}\n"
     ]
    }
   ],
   "source": [
    "from typing import Dict, Union, Optional\n",
    "\n",
    "# create custom type\n",
    "Key = Union[int, str] \n",
    "Value = Union[str,int,list, dict, set]\n",
    "\n",
    "data : dict[Key, Value] = {\n",
    "    \"name\": \"Syed Emmad\",\n",
    "    \"fname\": \"Syed Tanveer\",\n",
    "    \"age\": \"30\",\n",
    "    \"education\": \"D pharm\"\n",
    "}\n",
    "data[\"name\"] = \"Syed Ibad\"          # add new value\n",
    "\n",
    "\n",
    "print(data)"
   ]
  },
  {
   "cell_type": "code",
   "execution_count": 24,
   "metadata": {},
   "outputs": [
    {
     "data": {
      "text/plain": [
       "['clear',\n",
       " 'copy',\n",
       " 'fromkeys',\n",
       " 'get',\n",
       " 'items',\n",
       " 'keys',\n",
       " 'pop',\n",
       " 'popitem',\n",
       " 'setdefault',\n",
       " 'update',\n",
       " 'values']"
      ]
     },
     "execution_count": 24,
     "metadata": {},
     "output_type": "execute_result"
    }
   ],
   "source": [
    "[i for i in dir(dict) if \"__\" not in i]"
   ]
  },
  {
   "cell_type": "code",
   "execution_count": 33,
   "metadata": {},
   "outputs": [
    {
     "name": "stdout",
     "output_type": "stream",
     "text": [
      "This key is nor available\n"
     ]
    }
   ],
   "source": [
    "from typing import Dict, Union, Optional\n",
    "\n",
    "# create custom type\n",
    "Key = Union[int, str] \n",
    "Value = Union[str,int,list, dict, set]\n",
    "\n",
    "data : dict[Key, Value] = {\n",
    "    \"name\": \"Syed Emmad\",\n",
    "    \"fname\": \"Syed Tanveer\",\n",
    "    \"age\": \"30\",\n",
    "    \"education\": \"D pharm\"\n",
    "}\n",
    "# print(data(\"pakistan\"))            error because we don't have pakistan key\n",
    "\n",
    "print(data.get(\"Paksitan\", \"This key is not available\"))"
   ]
  },
  {
   "cell_type": "code",
   "execution_count": 36,
   "metadata": {},
   "outputs": [
    {
     "name": "stdout",
     "output_type": "stream",
     "text": [
      "dict_keys(['name', 'fname', 'age', 'education'])\n",
      "dict_values(['Syed Emmad', 'Syed Tanveer', '30', 'D pharm'])\n",
      "dict_items([('name', 'Syed Emmad'), ('fname', 'Syed Tanveer'), ('age', '30'), ('education', 'D pharm')])\n"
     ]
    }
   ],
   "source": [
    "from typing import Dict, Union, Optional\n",
    "\n",
    "# create custom type\n",
    "Key = Union[int, str] \n",
    "Value = Union[str,int,list, dict, set]\n",
    "\n",
    "data : dict[Key, Value] = {\n",
    "    \"name\": \"Syed Emmad\",\n",
    "    \"fname\": \"Syed Tanveer\",\n",
    "    \"age\": \"30\",\n",
    "    \"education\": \"D pharm\"\n",
    "}\n",
    "\n",
    "print(data.keys())\n",
    "print(data.values())\n",
    "print(data.items())\n"
   ]
  },
  {
   "cell_type": "code",
   "execution_count": 39,
   "metadata": {},
   "outputs": [
    {
     "name": "stdout",
     "output_type": "stream",
     "text": [
      "dict_keys(['name', 'fname', 'age', 'education'])\n",
      "dict_values(['Syed Emmad', 'Syed Tanveer', '30', 'D pharm'])\n",
      "dict_items([('name', 'Syed Emmad'), ('fname', 'Syed Tanveer'), ('age', '30'), ('education', 'D pharm')])\n",
      "name Syed Emmad\n",
      "fname Syed Tanveer\n",
      "age 30\n",
      "education D pharm\n"
     ]
    }
   ],
   "source": [
    "from typing import Dict, Union, Optional\n",
    "\n",
    "# create custom type\n",
    "Key = Union[int, str] \n",
    "Value = Union[str,int,list, dict, set]\n",
    "\n",
    "data : dict[Key, Value] = {\n",
    "    \"name\": \"Syed Emmad\",\n",
    "    \"fname\": \"Syed Tanveer\",\n",
    "    \"age\": \"30\",\n",
    "    \"education\": \"D pharm\"\n",
    "}\n",
    "\n",
    "print(data.keys())\n",
    "print(data.values())\n",
    "print(data.items())\n",
    "\n",
    "\n",
    "for k in data.keys():\n",
    "    print(k, data[k])"
   ]
  },
  {
   "cell_type": "code",
   "execution_count": 40,
   "metadata": {},
   "outputs": [
    {
     "name": "stdout",
     "output_type": "stream",
     "text": [
      "dict_keys(['name', 'fname', 'age', 'education'])\n",
      "dict_values(['Syed Emmad', 'Syed Tanveer', '30', 'D pharm'])\n",
      "dict_items([('name', 'Syed Emmad'), ('fname', 'Syed Tanveer'), ('age', '30'), ('education', 'D pharm')])\n",
      "Syed Emmad\n",
      "Syed Tanveer\n",
      "30\n",
      "D pharm\n"
     ]
    }
   ],
   "source": [
    "from typing import Dict, Union, Optional\n",
    "\n",
    "# create custom type\n",
    "Key = Union[int, str] \n",
    "Value = Union[str,int,list, dict, set]\n",
    "\n",
    "data : dict[Key, Value] = {\n",
    "    \"name\": \"Syed Emmad\",\n",
    "    \"fname\": \"Syed Tanveer\",\n",
    "    \"age\": \"30\",\n",
    "    \"education\": \"D pharm\"\n",
    "}\n",
    "\n",
    "print(data.keys())\n",
    "print(data.values())\n",
    "print(data.items())\n",
    "\n",
    "\n",
    "for v in data.values():\n",
    "    print(v )"
   ]
  },
  {
   "cell_type": "code",
   "execution_count": 7,
   "metadata": {},
   "outputs": [
    {
     "name": "stdout",
     "output_type": "stream",
     "text": [
      "dict_keys(['name', 'fname', 'age', 'education'])\n",
      "dict_values(['Syed Emmad', 'Syed Tanveer', '30', 'D pharm'])\n",
      "dict_items([('name', 'Syed Emmad'), ('fname', 'Syed Tanveer'), ('age', '30'), ('education', 'D pharm')])\n",
      "name Syed Emmad\n",
      "fname Syed Tanveer\n",
      "age 30\n",
      "education D pharm\n"
     ]
    }
   ],
   "source": [
    "from typing import Dict, Union, Optional\n",
    "\n",
    "# create custom type\n",
    "Key = Union[int, str] \n",
    "Value = Union[str,int,list, dict, set]\n",
    "\n",
    "data : dict[Key, Value] = {\n",
    "    \"name\": \"Syed Emmad\",\n",
    "    \"fname\": \"Syed Tanveer\",\n",
    "    \"age\": \"30\",\n",
    "    \"education\": \"D pharm\"\n",
    "}\n",
    "\n",
    "print(data.keys())\n",
    "print(data.values())\n",
    "print(data.items())\n",
    "\n",
    "\n",
    "for k,v in data.items():\n",
    "    print(k,v)"
   ]
  },
  {
   "cell_type": "code",
   "execution_count": 42,
   "metadata": {},
   "outputs": [
    {
     "data": {
      "text/plain": [
       "{'name': 'Syed Emmad',\n",
       " 'fname': 'Syed Tanveer',\n",
       " 'age': '30',\n",
       " 'education': 'D pharm'}"
      ]
     },
     "execution_count": 42,
     "metadata": {},
     "output_type": "execute_result"
    }
   ],
   "source": [
    "{k:v for k,v in data.items()}      # dict comprehensive\n",
    "                                 "
   ]
  },
  {
   "cell_type": "code",
   "execution_count": null,
   "metadata": {},
   "outputs": [],
   "source": [
    "{v:k for k,v in data.items()}   # dict comprehensive"
   ]
  },
  {
   "cell_type": "code",
   "execution_count": 8,
   "metadata": {},
   "outputs": [
    {
     "name": "stdout",
     "output_type": "stream",
     "text": [
      "{}\n"
     ]
    },
    {
     "data": {
      "text/plain": [
       "{'id': None, 'fname': None, 'name': None}"
      ]
     },
     "execution_count": 8,
     "metadata": {},
     "output_type": "execute_result"
    }
   ],
   "source": [
    "keys : list[str] = {\"id\", \"name\", \"fname\"}\n",
    "data : dict[Key, Value] = {}\n",
    "\n",
    "print(data)\n",
    "data.fromkeys(keys)  # inline\n",
    "# print(data)\n",
    "\n",
    "\n"
   ]
  },
  {
   "cell_type": "code",
   "execution_count": 47,
   "metadata": {},
   "outputs": [
    {
     "name": "stdout",
     "output_type": "stream",
     "text": [
      "{}\n",
      "{'id': None, 'fname': None, 'name': None}\n"
     ]
    }
   ],
   "source": [
    "keys : list[str] = {\"id\", \"name\", \"fname\"}\n",
    "data : dict[Key, Value] = {}\n",
    "\n",
    "print(data)\n",
    "data = data.fromkeys(keys)  \n",
    "print(data)"
   ]
  }
 ],
 "metadata": {
  "kernelspec": {
   "display_name": "python276",
   "language": "python",
   "name": "python3"
  },
  "language_info": {
   "codemirror_mode": {
    "name": "ipython",
    "version": 3
   },
   "file_extension": ".py",
   "mimetype": "text/x-python",
   "name": "python",
   "nbconvert_exporter": "python",
   "pygments_lexer": "ipython3",
   "version": "3.12.0"
  }
 },
 "nbformat": 4,
 "nbformat_minor": 2
}

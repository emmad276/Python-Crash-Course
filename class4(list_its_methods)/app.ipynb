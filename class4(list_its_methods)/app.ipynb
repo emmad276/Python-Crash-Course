{
 "cells": [
  {
   "cell_type": "code",
   "execution_count": null,
   "metadata": {},
   "outputs": [],
   "source": [
    "name1: str = \"Emmad\"\n",
    "name2: str = \"Ibad\"\n",
    "name3: str = \"Ammar\""
   ]
  },
  {
   "cell_type": "markdown",
   "metadata": {},
   "source": [
    "* when there is no limit, you have to use list"
   ]
  },
  {
   "cell_type": "markdown",
   "metadata": {},
   "source": [
    "# List\n",
    "* dynamic lenght\n",
    "* heterogenous length(multiple types)\n",
    "* Index\n",
    "    * positive indexing 0 to n-1\n",
    "    * negative indexing -1 to length-1\n",
    "* Slicing\n",
    "    * variable `name[start: end: step]`\n",
    "    * start : int = include\n",
    "    * end : int = n-1\n",
    "    * step : int = squence"
   ]
  },
  {
   "cell_type": "code",
   "execution_count": 4,
   "metadata": {},
   "outputs": [
    {
     "name": "stdout",
     "output_type": "stream",
     "text": [
      "9\n",
      "Ammar\n",
      "Ammar\n",
      "5\n"
     ]
    }
   ],
   "source": [
    "# -->                       0       1      2      3     4\n",
    "names: list[str, int] = [\"Emmad\",\"Ibad\",\"Ammar\",\"Maaz\", 9]\n",
    "# <--                       -5     -4      -3    -2     -1\n",
    "print(names[-1])\n",
    "print(names[2])\n",
    "print(names[-3])\n",
    "print(len(names))"
   ]
  },
  {
   "cell_type": "code",
   "execution_count": 5,
   "metadata": {},
   "outputs": [
    {
     "data": {
      "text/plain": [
       "['append',\n",
       " 'clear',\n",
       " 'copy',\n",
       " 'count',\n",
       " 'extend',\n",
       " 'index',\n",
       " 'insert',\n",
       " 'pop',\n",
       " 'remove',\n",
       " 'reverse',\n",
       " 'sort']"
      ]
     },
     "execution_count": 5,
     "metadata": {},
     "output_type": "execute_result"
    }
   ],
   "source": [
    "[i for i in dir(list) if \"__\" not in i]"
   ]
  },
  {
   "cell_type": "code",
   "execution_count": 8,
   "metadata": {},
   "outputs": [
    {
     "name": "stdout",
     "output_type": "stream",
     "text": [
      "your name is Maaz\n",
      "<class 'list'>\n",
      "<class 'str'>\n"
     ]
    }
   ],
   "source": [
    "from typing import Any\n",
    "# -->                  0       1      2      3     \n",
    "names : list[Any] = [\"Emmad\",\"Ibad\",\"Ammar\",\"Maaz\"]\n",
    "# <--                  -4     -3      -2    -1     \n",
    "print(f'your name is {names[3]}')\n",
    "print(type(names))     \n",
    "print(type(names[-1]))\n",
    "\n"
   ]
  },
  {
   "cell_type": "code",
   "execution_count": 13,
   "metadata": {},
   "outputs": [
    {
     "name": "stdout",
     "output_type": "stream",
     "text": [
      "your name is Maaz\n",
      "AMMAR\n"
     ]
    }
   ],
   "source": [
    "from typing import Any\n",
    "# -->                  0       1      2      3     \n",
    "names : list[Any] = [\"Emmad\",\"Ibad\",\"Ammar\",\"Maaz\"]\n",
    "# <--                  -4     -3      -2    -1     \n",
    "print(f'your name is {names[3]}')\n",
    "print(names[-2].upper())       # strings methods are apply on a single item\n"
   ]
  },
  {
   "cell_type": "markdown",
   "metadata": {},
   "source": [
    "### Slicing"
   ]
  },
  {
   "cell_type": "code",
   "execution_count": 18,
   "metadata": {},
   "outputs": [
    {
     "name": "stdout",
     "output_type": "stream",
     "text": [
      "['A', 'B', 'C', 'D', 'E', 'F', 'G', 'H', 'I', 'J', 'K', 'L', 'M', 'N', 'O', 'P', 'Q', 'R', 'S', 'T', 'U', 'V', 'W', 'X', 'P', 'Y', 'Z']\n"
     ]
    }
   ],
   "source": [
    "character : list[str] = list(\"ABCDEFGHIJKLMNOPQRSTUVWXPYZ\")\n",
    "print(character)"
   ]
  },
  {
   "cell_type": "code",
   "execution_count": 22,
   "metadata": {},
   "outputs": [
    {
     "name": "stdout",
     "output_type": "stream",
     "text": [
      "27\n"
     ]
    }
   ],
   "source": [
    "cha : list[str] = ['A', 'B', 'C', 'D', 'E', 'F', 'G', 'H', 'I', 'J', 'K', 'L', 'M', 'N', 'O', 'P', 'Q', 'R', 'S', 'T', 'U', 'V', 'W', 'X', 'P', 'Y', 'Z']\n",
    "print(len(cha))"
   ]
  },
  {
   "cell_type": "code",
   "execution_count": 20,
   "metadata": {},
   "outputs": [
    {
     "name": "stdout",
     "output_type": "stream",
     "text": [
      "['A', 'B', 'C', 'D', 'E', 'F', 'G']\n"
     ]
    }
   ],
   "source": [
    "characters : list[str] = ['A', 'B', 'C', 'D', 'E', 'F', 'G', 'H', 'I', 'J', 'K', 'L', 'M', 'N', 'O']\n",
    "print(characters[0:7])"
   ]
  },
  {
   "cell_type": "code",
   "execution_count": 23,
   "metadata": {},
   "outputs": [
    {
     "name": "stdout",
     "output_type": "stream",
     "text": [
      "['A', 'C', 'E', 'G']\n",
      "['A', 'B']\n"
     ]
    }
   ],
   "source": [
    "characters : list[str] = ['A', 'B', 'C', 'D', 'E', 'F', 'G', 'H', 'I', 'J', 'K', 'L', 'M', 'N', 'O']\n",
    "print(characters[0:7:2]) # [start: end-1: step]\n",
    "print(characters[:2])\n"
   ]
  },
  {
   "cell_type": "code",
   "execution_count": 25,
   "metadata": {},
   "outputs": [
    {
     "name": "stdout",
     "output_type": "stream",
     "text": [
      "['B', 'C']\n"
     ]
    }
   ],
   "source": [
    "#                         0    1    2    3    4\n",
    "character : list[str] = ['A', 'B', 'C', 'D', 'E', 'F', 'G', 'H', 'I', 'J', 'K', 'L', 'M', 'N', 'O', 'P', 'Q', 'R', 'S', 'T', 'U', 'V', 'W', 'X', 'P', 'Y', 'Z']\n",
    "#                        -26  -25  -24  -23\n",
    "# by default slicing goes from left to right\n",
    "print(character[-26: -24])\n"
   ]
  },
  {
   "cell_type": "code",
   "execution_count": 29,
   "metadata": {},
   "outputs": [
    {
     "name": "stdout",
     "output_type": "stream",
     "text": [
      "['A', 'C', 'E', 'G', 'I']\n"
     ]
    }
   ],
   "source": [
    "#                         0    1    2    3    4\n",
    "character : list[str] = ['A', 'B', 'C', 'D', 'E', 'F', 'G', 'H', 'I', 'J', 'K', 'L', 'M', 'N', 'O', 'P', 'Q', 'R', 'S', 'T', 'U', 'V', 'W', 'X', 'P', 'Y', 'Z']\n",
    "#                        -26  -25  -24  -23\n",
    "print(character[0:10:2])"
   ]
  },
  {
   "cell_type": "code",
   "execution_count": 30,
   "metadata": {},
   "outputs": [
    {
     "name": "stdout",
     "output_type": "stream",
     "text": [
      "['A', 'B', 'C', 'D', 'E', 'F', 'G', 'H', 'I', 'J', 'K', 'L', 'M', 'N', 'O', 'P', 'Q', 'R', 'S', 'T', 'U', 'V', 'W', 'X', 'P', 'Y', 'Z']\n"
     ]
    }
   ],
   "source": [
    "#                         0    1    2    3    4\n",
    "character : list[str] = ['A', 'B', 'C', 'D', 'E', 'F', 'G', 'H', 'I', 'J', 'K', 'L', 'M', 'N', 'O', 'P', 'Q', 'R', 'S', 'T', 'U', 'V', 'W', 'X', 'P', 'Y', 'Z']\n",
    "#                        -26  -25  -24  -23\n",
    "print(character[ : : ])"
   ]
  },
  {
   "cell_type": "code",
   "execution_count": 32,
   "metadata": {},
   "outputs": [
    {
     "name": "stdout",
     "output_type": "stream",
     "text": [
      "['A', 'C', 'E', 'G', 'I', 'K', 'M', 'O', 'Q', 'S', 'U', 'W', 'P', 'Z']\n"
     ]
    }
   ],
   "source": [
    "#                         0    1    2    3    4\n",
    "character : list[str] = ['A', 'B', 'C', 'D', 'E', 'F', 'G', 'H', 'I', 'J', 'K', 'L', 'M', 'N', 'O', 'P', 'Q', 'R', 'S', 'T', 'U', 'V', 'W', 'X', 'P', 'Y', 'Z']\n",
    "#                        -26  -25  -24  -23\n",
    "print(character[ : :2])"
   ]
  },
  {
   "cell_type": "code",
   "execution_count": 34,
   "metadata": {},
   "outputs": [
    {
     "name": "stdout",
     "output_type": "stream",
     "text": [
      "['Z', 'Y', 'P', 'X', 'W', 'V', 'U', 'T', 'S', 'R', 'Q', 'P', 'O', 'N', 'M', 'L', 'K', 'J', 'I', 'H', 'G', 'F', 'E', 'D', 'C', 'B', 'A']\n"
     ]
    }
   ],
   "source": [
    "#                         0    1    2    3    4\n",
    "character : list[str] = ['A', 'B', 'C', 'D', 'E', 'F', 'G', 'H', 'I', 'J', 'K', 'L', 'M', 'N', 'O', 'P', 'Q', 'R', 'S', 'T', 'U', 'V', 'W', 'X', 'P', 'Y', 'Z']\n",
    "#                        -26  -25  -24  -23\n",
    "print(character[ : :-1])    # Reverse because of -1 step"
   ]
  },
  {
   "cell_type": "code",
   "execution_count": 40,
   "metadata": {},
   "outputs": [
    {
     "name": "stdout",
     "output_type": "stream",
     "text": [
      "['B', 'C', 'D', 'E', 'F']\n",
      "['B', 'C', 'D', 'E', 'F']\n",
      "[]\n"
     ]
    }
   ],
   "source": [
    "#                         0    1    2    3    4    5    6    7    8\n",
    "character : list[str] = ['A', 'B', 'C', 'D', 'E', 'F', 'G', 'H', 'I']\n",
    "#                        -9   -8   -7   -6   -5    -4   -3   -2   -1\n",
    "print(character[1:-3]) \n",
    "print(character[-8:6])\n",
    "\n"
   ]
  },
  {
   "cell_type": "code",
   "execution_count": 41,
   "metadata": {},
   "outputs": [
    {
     "name": "stdout",
     "output_type": "stream",
     "text": [
      "[]\n"
     ]
    }
   ],
   "source": [
    "#                         0    1    2    3    4    5    6    7    8\n",
    "character : list[str] = ['A', 'B', 'C', 'D', 'E', 'F', 'G', 'H', 'I']\n",
    "#                        -9   -8   -7   -6   -5    -4   -3   -2   -1\n",
    "\n",
    "print(character[-1:-5])   # because by default it goes from left to right"
   ]
  },
  {
   "cell_type": "code",
   "execution_count": 42,
   "metadata": {},
   "outputs": [
    {
     "name": "stdout",
     "output_type": "stream",
     "text": [
      "['I', 'H', 'G', 'F']\n"
     ]
    }
   ],
   "source": [
    "#                         0    1    2    3    4    5    6    7    8\n",
    "character : list[str] = ['A', 'B', 'C', 'D', 'E', 'F', 'G', 'H', 'I']\n",
    "#                        -9   -8   -7   -6   -5    -4   -3   -2   -1\n",
    "\n",
    "print(character[-1:-5:-1]) "
   ]
  },
  {
   "cell_type": "code",
   "execution_count": null,
   "metadata": {},
   "outputs": [],
   "source": []
  }
 ],
 "metadata": {
  "kernelspec": {
   "display_name": "python276",
   "language": "python",
   "name": "python3"
  },
  "language_info": {
   "codemirror_mode": {
    "name": "ipython",
    "version": 3
   },
   "file_extension": ".py",
   "mimetype": "text/x-python",
   "name": "python",
   "nbconvert_exporter": "python",
   "pygments_lexer": "ipython3",
   "version": "3.12.0"
  }
 },
 "nbformat": 4,
 "nbformat_minor": 2
}

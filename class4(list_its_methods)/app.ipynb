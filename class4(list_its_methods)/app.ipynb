{
 "cells": [
  {
   "cell_type": "code",
   "execution_count": null,
   "metadata": {},
   "outputs": [],
   "source": [
    "name1: str = \"Emmad\"\n",
    "name2: str = \"Ibad\"\n",
    "name3: str = \"Ammar\""
   ]
  },
  {
   "cell_type": "markdown",
   "metadata": {},
   "source": [
    "* when there is no limit, you have to use list"
   ]
  },
  {
   "cell_type": "markdown",
   "metadata": {},
   "source": [
    "# List\n",
    "* dynamic lenght\n",
    "* heterogenous length(multiple types)\n",
    "* Index\n",
    "    * positive indexing 0 to n-1\n",
    "    * negative indexing -1 to length-1\n",
    "* Slicing\n",
    "    * variable `name[start: end: step]`\n",
    "    * start : int = include\n",
    "    * end : int = n-1\n",
    "    * step : int = squence"
   ]
  },
  {
   "cell_type": "code",
   "execution_count": 4,
   "metadata": {},
   "outputs": [
    {
     "name": "stdout",
     "output_type": "stream",
     "text": [
      "9\n",
      "Ammar\n",
      "Ammar\n",
      "5\n"
     ]
    }
   ],
   "source": [
    "# -->                       0       1      2      3     4\n",
    "names: list[str, int] = [\"Emmad\",\"Ibad\",\"Ammar\",\"Maaz\", 9]\n",
    "# <--                       -5     -4      -3    -2     -1\n",
    "print(names[-1])\n",
    "print(names[2])\n",
    "print(names[-3])\n",
    "print(len(names))"
   ]
  },
  {
   "cell_type": "code",
   "execution_count": 5,
   "metadata": {},
   "outputs": [
    {
     "data": {
      "text/plain": [
       "['append',\n",
       " 'clear',\n",
       " 'copy',\n",
       " 'count',\n",
       " 'extend',\n",
       " 'index',\n",
       " 'insert',\n",
       " 'pop',\n",
       " 'remove',\n",
       " 'reverse',\n",
       " 'sort']"
      ]
     },
     "execution_count": 5,
     "metadata": {},
     "output_type": "execute_result"
    }
   ],
   "source": [
    "[i for i in dir(list) if \"__\" not in i]"
   ]
  },
  {
   "cell_type": "code",
   "execution_count": 8,
   "metadata": {},
   "outputs": [
    {
     "name": "stdout",
     "output_type": "stream",
     "text": [
      "your name is Maaz\n",
      "<class 'list'>\n",
      "<class 'str'>\n"
     ]
    }
   ],
   "source": [
    "from typing import Any\n",
    "# -->                  0       1      2      3     \n",
    "names : list[Any] = [\"Emmad\",\"Ibad\",\"Ammar\",\"Maaz\"]\n",
    "# <--                  -4     -3      -2    -1     \n",
    "print(f'your name is {names[3]}')\n",
    "print(type(names))     \n",
    "print(type(names[-1]))\n",
    "\n"
   ]
  },
  {
   "cell_type": "code",
   "execution_count": 13,
   "metadata": {},
   "outputs": [
    {
     "name": "stdout",
     "output_type": "stream",
     "text": [
      "your name is Maaz\n",
      "AMMAR\n"
     ]
    }
   ],
   "source": [
    "from typing import Any\n",
    "# -->                  0       1      2      3     \n",
    "names : list[Any] = [\"Emmad\",\"Ibad\",\"Ammar\",\"Maaz\"]\n",
    "# <--                  -4     -3      -2    -1     \n",
    "print(f'your name is {names[3]}')\n",
    "print(names[-2].upper())       # strings methods are apply on a single item\n"
   ]
  },
  {
   "cell_type": "markdown",
   "metadata": {},
   "source": [
    "### Slicing"
   ]
  },
  {
   "cell_type": "code",
   "execution_count": 18,
   "metadata": {},
   "outputs": [
    {
     "name": "stdout",
     "output_type": "stream",
     "text": [
      "['A', 'B', 'C', 'D', 'E', 'F', 'G', 'H', 'I', 'J', 'K', 'L', 'M', 'N', 'O', 'P', 'Q', 'R', 'S', 'T', 'U', 'V', 'W', 'X', 'P', 'Y', 'Z']\n"
     ]
    }
   ],
   "source": [
    "character : list[str] = list(\"ABCDEFGHIJKLMNOPQRSTUVWXPYZ\")\n",
    "print(character)"
   ]
  },
  {
   "cell_type": "code",
   "execution_count": 22,
   "metadata": {},
   "outputs": [
    {
     "name": "stdout",
     "output_type": "stream",
     "text": [
      "27\n"
     ]
    }
   ],
   "source": [
    "cha : list[str] = ['A', 'B', 'C', 'D', 'E', 'F', 'G', 'H', 'I', 'J', 'K', 'L', 'M', 'N', 'O', 'P', 'Q', 'R', 'S', 'T', 'U', 'V', 'W', 'X', 'P', 'Y', 'Z']\n",
    "print(len(cha))"
   ]
  },
  {
   "cell_type": "code",
   "execution_count": 20,
   "metadata": {},
   "outputs": [
    {
     "name": "stdout",
     "output_type": "stream",
     "text": [
      "['A', 'B', 'C', 'D', 'E', 'F', 'G']\n"
     ]
    }
   ],
   "source": [
    "characters : list[str] = ['A', 'B', 'C', 'D', 'E', 'F', 'G', 'H', 'I', 'J', 'K', 'L', 'M', 'N', 'O']\n",
    "print(characters[0:7])"
   ]
  },
  {
   "cell_type": "code",
   "execution_count": 23,
   "metadata": {},
   "outputs": [
    {
     "name": "stdout",
     "output_type": "stream",
     "text": [
      "['A', 'C', 'E', 'G']\n",
      "['A', 'B']\n"
     ]
    }
   ],
   "source": [
    "characters : list[str] = ['A', 'B', 'C', 'D', 'E', 'F', 'G', 'H', 'I', 'J', 'K', 'L', 'M', 'N', 'O']\n",
    "print(characters[0:7:2]) # [start: end-1: step]\n",
    "print(characters[:2])\n"
   ]
  },
  {
   "cell_type": "code",
   "execution_count": 25,
   "metadata": {},
   "outputs": [
    {
     "name": "stdout",
     "output_type": "stream",
     "text": [
      "['B', 'C']\n"
     ]
    }
   ],
   "source": [
    "#                         0    1    2    3    4\n",
    "character : list[str] = ['A', 'B', 'C', 'D', 'E', 'F', 'G', 'H', 'I', 'J', 'K', 'L', 'M', 'N', 'O', 'P', 'Q', 'R', 'S', 'T', 'U', 'V', 'W', 'X', 'P', 'Y', 'Z']\n",
    "#                        -26  -25  -24  -23\n",
    "# by default slicing goes from left to right\n",
    "print(character[-26: -24])\n"
   ]
  },
  {
   "cell_type": "code",
   "execution_count": 29,
   "metadata": {},
   "outputs": [
    {
     "name": "stdout",
     "output_type": "stream",
     "text": [
      "['A', 'C', 'E', 'G', 'I']\n"
     ]
    }
   ],
   "source": [
    "#                         0    1    2    3    4\n",
    "character : list[str] = ['A', 'B', 'C', 'D', 'E', 'F', 'G', 'H', 'I', 'J', 'K', 'L', 'M', 'N', 'O', 'P', 'Q', 'R', 'S', 'T', 'U', 'V', 'W', 'X', 'P', 'Y', 'Z']\n",
    "#                        -26  -25  -24  -23\n",
    "print(character[0:10:2])"
   ]
  },
  {
   "cell_type": "code",
   "execution_count": 30,
   "metadata": {},
   "outputs": [
    {
     "name": "stdout",
     "output_type": "stream",
     "text": [
      "['A', 'B', 'C', 'D', 'E', 'F', 'G', 'H', 'I', 'J', 'K', 'L', 'M', 'N', 'O', 'P', 'Q', 'R', 'S', 'T', 'U', 'V', 'W', 'X', 'P', 'Y', 'Z']\n"
     ]
    }
   ],
   "source": [
    "#                         0    1    2    3    4\n",
    "character : list[str] = ['A', 'B', 'C', 'D', 'E', 'F', 'G', 'H', 'I', 'J', 'K', 'L', 'M', 'N', 'O', 'P', 'Q', 'R', 'S', 'T', 'U', 'V', 'W', 'X', 'P', 'Y', 'Z']\n",
    "#                        -26  -25  -24  -23\n",
    "print(character[ : : ])"
   ]
  },
  {
   "cell_type": "code",
   "execution_count": 32,
   "metadata": {},
   "outputs": [
    {
     "name": "stdout",
     "output_type": "stream",
     "text": [
      "['A', 'C', 'E', 'G', 'I', 'K', 'M', 'O', 'Q', 'S', 'U', 'W', 'P', 'Z']\n"
     ]
    }
   ],
   "source": [
    "#                         0    1    2    3    4\n",
    "character : list[str] = ['A', 'B', 'C', 'D', 'E', 'F', 'G', 'H', 'I', 'J', 'K', 'L', 'M', 'N', 'O', 'P', 'Q', 'R', 'S', 'T', 'U', 'V', 'W', 'X', 'P', 'Y', 'Z']\n",
    "#                        -26  -25  -24  -23\n",
    "print(character[ : :2])"
   ]
  },
  {
   "cell_type": "code",
   "execution_count": 34,
   "metadata": {},
   "outputs": [
    {
     "name": "stdout",
     "output_type": "stream",
     "text": [
      "['Z', 'Y', 'P', 'X', 'W', 'V', 'U', 'T', 'S', 'R', 'Q', 'P', 'O', 'N', 'M', 'L', 'K', 'J', 'I', 'H', 'G', 'F', 'E', 'D', 'C', 'B', 'A']\n"
     ]
    }
   ],
   "source": [
    "#                         0    1    2    3    4\n",
    "character : list[str] = ['A', 'B', 'C', 'D', 'E', 'F', 'G', 'H', 'I', 'J', 'K', 'L', 'M', 'N', 'O', 'P', 'Q', 'R', 'S', 'T', 'U', 'V', 'W', 'X', 'P', 'Y', 'Z']\n",
    "#                        -26  -25  -24  -23\n",
    "print(character[ : :-1])    # Reverse because of -1 step"
   ]
  },
  {
   "cell_type": "code",
   "execution_count": 40,
   "metadata": {},
   "outputs": [
    {
     "name": "stdout",
     "output_type": "stream",
     "text": [
      "['B', 'C', 'D', 'E', 'F']\n",
      "['B', 'C', 'D', 'E', 'F']\n",
      "[]\n"
     ]
    }
   ],
   "source": [
    "#                         0    1    2    3    4    5    6    7    8\n",
    "character : list[str] = ['A', 'B', 'C', 'D', 'E', 'F', 'G', 'H', 'I']\n",
    "#                        -9   -8   -7   -6   -5    -4   -3   -2   -1\n",
    "print(character[1:-3]) \n",
    "print(character[-8:6])\n",
    "\n"
   ]
  },
  {
   "cell_type": "code",
   "execution_count": 41,
   "metadata": {},
   "outputs": [
    {
     "name": "stdout",
     "output_type": "stream",
     "text": [
      "[]\n"
     ]
    }
   ],
   "source": [
    "#                         0    1    2    3    4    5    6    7    8\n",
    "character : list[str] = ['A', 'B', 'C', 'D', 'E', 'F', 'G', 'H', 'I']\n",
    "#                        -9   -8   -7   -6   -5    -4   -3   -2   -1\n",
    "\n",
    "print(character[-1:-5])   # because by default it goes from left to right"
   ]
  },
  {
   "cell_type": "code",
   "execution_count": 42,
   "metadata": {},
   "outputs": [
    {
     "name": "stdout",
     "output_type": "stream",
     "text": [
      "['I', 'H', 'G', 'F']\n"
     ]
    }
   ],
   "source": [
    "#                         0    1    2    3    4    5    6    7    8\n",
    "character : list[str] = ['A', 'B', 'C', 'D', 'E', 'F', 'G', 'H', 'I']\n",
    "#                        -9   -8   -7   -6   -5    -4   -3   -2   -1\n",
    "\n",
    "print(character[-1:-5:-1]) "
   ]
  },
  {
   "cell_type": "markdown",
   "metadata": {},
   "source": [
    "# List Methods"
   ]
  },
  {
   "cell_type": "code",
   "execution_count": 43,
   "metadata": {},
   "outputs": [
    {
     "data": {
      "text/plain": [
       "['append',\n",
       " 'clear',\n",
       " 'copy',\n",
       " 'count',\n",
       " 'extend',\n",
       " 'index',\n",
       " 'insert',\n",
       " 'pop',\n",
       " 'remove',\n",
       " 'reverse',\n",
       " 'sort']"
      ]
     },
     "execution_count": 43,
     "metadata": {},
     "output_type": "execute_result"
    }
   ],
   "source": [
    "[i for i in dir(list) if \"__\" not in i]"
   ]
  },
  {
   "cell_type": "markdown",
   "metadata": {},
   "source": [
    "* Python is immutable"
   ]
  },
  {
   "cell_type": "code",
   "execution_count": 45,
   "metadata": {},
   "outputs": [
    {
     "name": "stdout",
     "output_type": "stream",
     "text": [
      "['Emmad', 'Ibad', 'Ammar', 'Maaz']\n",
      "['Tanveer', 'Ibad', 'Ammar', 'Maaz']\n"
     ]
    }
   ],
   "source": [
    "from typing import Any\n",
    "# -->                  0       1      2      3     \n",
    "names : list[Any] = [\"Emmad\",\"Ibad\",\"Ammar\",\"Maaz\"]\n",
    "# <--                  -4     -3      -2    -1     \n",
    "print(names)\n",
    "names[0] = \"Tanveer\"\n",
    "print(names)"
   ]
  },
  {
   "cell_type": "code",
   "execution_count": 46,
   "metadata": {},
   "outputs": [
    {
     "name": "stdout",
     "output_type": "stream",
     "text": [
      "['Emmad', 'Ibad', 'Ammar', 'Maaz']\n",
      "['Emmad', 'Ammar', 'Maaz']\n"
     ]
    }
   ],
   "source": [
    "from typing import Any\n",
    "# -->                  0       1      2      3     \n",
    "names : list[Any] = [\"Emmad\",\"Ibad\",\"Ammar\",\"Maaz\"]\n",
    "# <--                  -4     -3      -2    -1     \n",
    "print(names)\n",
    "del names[1]\n",
    "print(names)"
   ]
  },
  {
   "cell_type": "code",
   "execution_count": 48,
   "metadata": {},
   "outputs": [
    {
     "name": "stdout",
     "output_type": "stream",
     "text": [
      "Pakistan\n"
     ]
    },
    {
     "data": {
      "text/plain": [
       "None"
      ]
     },
     "metadata": {},
     "output_type": "display_data"
    }
   ],
   "source": [
    "a : str = print(\"Pakistan\")\n",
    "display(a)      # print is non return function"
   ]
  },
  {
   "cell_type": "code",
   "execution_count": 49,
   "metadata": {},
   "outputs": [
    {
     "data": {
      "text/plain": [
       "1423287205232"
      ]
     },
     "metadata": {},
     "output_type": "display_data"
    }
   ],
   "source": [
    "a : str = id(\"Pakistan\")\n",
    "display(a)          # id is return function"
   ]
  },
  {
   "cell_type": "markdown",
   "metadata": {},
   "source": [
    "## POP Method"
   ]
  },
  {
   "cell_type": "code",
   "execution_count": 50,
   "metadata": {},
   "outputs": [
    {
     "name": "stdout",
     "output_type": "stream",
     "text": [
      "Maaz\n"
     ]
    }
   ],
   "source": [
    "from typing import Any\n",
    "# -->                  0       1      2      3     \n",
    "names : list[Any] = [\"Emmad\",\"Ibad\",\"Ammar\",\"Maaz\"]\n",
    "# <--                  -4     -3      -2    -1     \n",
    "a = names.pop()\n",
    "print(a)               # pop is a return methods but del is not a return method"
   ]
  },
  {
   "cell_type": "markdown",
   "metadata": {},
   "source": [
    "## Append Method"
   ]
  },
  {
   "cell_type": "code",
   "execution_count": 56,
   "metadata": {},
   "outputs": [
    {
     "name": "stdout",
     "output_type": "stream",
     "text": [
      "['a', 'b', 'Syed Emmad', 'Syed Maaz', 'Syed Ammar']\n"
     ]
    }
   ],
   "source": [
    "names: list[str] = [\"a\",\"b\"]\n",
    "names.append(\"Syed Emmad\")\n",
    "names.append(\"Syed Maaz\")\n",
    "names.append(\"Syed Ammar\")\n",
    "print(names)"
   ]
  },
  {
   "cell_type": "code",
   "execution_count": null,
   "metadata": {},
   "outputs": [],
   "source": []
  },
  {
   "cell_type": "markdown",
   "metadata": {},
   "source": [
    "## Insert Method\n"
   ]
  },
  {
   "cell_type": "code",
   "execution_count": 57,
   "metadata": {},
   "outputs": [
    {
     "name": "stdout",
     "output_type": "stream",
     "text": [
      "['a', 'Emmad', 'b', 'c', 'd']\n"
     ]
    }
   ],
   "source": [
    "names: list[str] = [\"a\",\"b\",\"c\",\"d\"]\n",
    "names.insert(1, \"Emmad\")\n",
    "print(names)"
   ]
  },
  {
   "cell_type": "markdown",
   "metadata": {},
   "source": [
    "## Del VS Clear Method"
   ]
  },
  {
   "cell_type": "code",
   "execution_count": 58,
   "metadata": {},
   "outputs": [
    {
     "ename": "NameError",
     "evalue": "name 'a' is not defined",
     "output_type": "error",
     "traceback": [
      "\u001b[1;31m---------------------------------------------------------------------------\u001b[0m",
      "\u001b[1;31mNameError\u001b[0m                                 Traceback (most recent call last)",
      "Cell \u001b[1;32mIn[58], line 3\u001b[0m\n\u001b[0;32m      1\u001b[0m a : \u001b[38;5;28mlist\u001b[39m[\u001b[38;5;28mstr\u001b[39m] \u001b[38;5;241m=\u001b[39m [\u001b[38;5;124m\"\u001b[39m\u001b[38;5;124ma\u001b[39m\u001b[38;5;124m\"\u001b[39m,\u001b[38;5;124m\"\u001b[39m\u001b[38;5;124mb\u001b[39m\u001b[38;5;124m\"\u001b[39m,\u001b[38;5;124m\"\u001b[39m\u001b[38;5;124mc\u001b[39m\u001b[38;5;124m\"\u001b[39m]\n\u001b[0;32m      2\u001b[0m \u001b[38;5;28;01mdel\u001b[39;00m a\n\u001b[1;32m----> 3\u001b[0m \u001b[38;5;28mprint\u001b[39m(\u001b[43ma\u001b[49m)\n",
      "\u001b[1;31mNameError\u001b[0m: name 'a' is not defined"
     ]
    }
   ],
   "source": [
    "a : list[str] = [\"a\",\"b\",\"c\"]\n",
    "del a\n",
    "print(a)         # remove from memory"
   ]
  },
  {
   "cell_type": "code",
   "execution_count": 59,
   "metadata": {},
   "outputs": [
    {
     "name": "stdout",
     "output_type": "stream",
     "text": [
      "[]\n"
     ]
    }
   ],
   "source": [
    "a : list[str] = [\"a\",\"b\",\"c\"]\n",
    "a.clear()\n",
    "print(a)       # remove but object rahe ga"
   ]
  },
  {
   "cell_type": "code",
   "execution_count": 60,
   "metadata": {},
   "outputs": [
    {
     "name": "stdout",
     "output_type": "stream",
     "text": [
      "['a', 'b', 'c']\n",
      "['a', 'b', 'c']\n"
     ]
    }
   ],
   "source": [
    "a : list[str] = [\"a\",\"b\",\"c\"]\n",
    "b=a\n",
    "print(a)\n",
    "print(b)"
   ]
  },
  {
   "cell_type": "markdown",
   "metadata": {},
   "source": [
    "## Shallow VS Deep Copy"
   ]
  },
  {
   "cell_type": "code",
   "execution_count": 61,
   "metadata": {},
   "outputs": [
    {
     "name": "stdout",
     "output_type": "stream",
     "text": [
      "['a', 'b', 'c']\n",
      "['a', 'b', 'c']\n",
      "['Pakistan', 'b', 'c']\n",
      "['Pakistan', 'b', 'c']\n"
     ]
    }
   ],
   "source": [
    "a : list[str] = [\"a\",\"b\",\"c\"]\n",
    "b=a           # SHALLOW COPY\n",
    "print(a)\n",
    "print(b)\n",
    "\n",
    "b[0] = \"Pakistan\"\n",
    "print(a)\n",
    "print(b)\n"
   ]
  },
  {
   "cell_type": "code",
   "execution_count": 63,
   "metadata": {},
   "outputs": [
    {
     "name": "stdout",
     "output_type": "stream",
     "text": [
      "['a', 'b', 'c']\n",
      "['a', 'b', 'c']\n",
      "['a', 'b', 'c']\n",
      "['Pakistan', 'b', 'c']\n"
     ]
    }
   ],
   "source": [
    "a : list[str] = [\"a\",\"b\",\"c\"]\n",
    "b=a.copy()           # DEEP COPY\n",
    "print(a)\n",
    "print(b)\n",
    "\n",
    "b[0] = \"Pakistan\"\n",
    "print(a)\n",
    "print(b)\n"
   ]
  },
  {
   "cell_type": "markdown",
   "metadata": {},
   "source": [
    "## Count Method"
   ]
  },
  {
   "cell_type": "code",
   "execution_count": 66,
   "metadata": {},
   "outputs": [
    {
     "name": "stdout",
     "output_type": "stream",
     "text": [
      "6\n"
     ]
    }
   ],
   "source": [
    "name: list[str] = [\"a\",\"b\",\"c\",\"a\",\"b\",\"c\",\"a\",\"a\",\"a\",'a']\n",
    "print(name.count(\"a\"))"
   ]
  },
  {
   "cell_type": "markdown",
   "metadata": {},
   "source": [
    "## Extend VS Append Method"
   ]
  },
  {
   "cell_type": "code",
   "execution_count": 71,
   "metadata": {},
   "outputs": [
    {
     "name": "stdout",
     "output_type": "stream",
     "text": [
      "['Maaz', 'Ammar', 'Ibad', 'Emmad', ['Sadia', 'Tanveer']]\n"
     ]
    }
   ],
   "source": [
    "family_name: list[str] = [\"Maaz\",\"Ammar\",\"Ibad\",\"Emmad\"]\n",
    "new_member : list[str] = [\"Sadia\",\"Tanveer\"]\n",
    "family_name.append(new_member)\n",
    "print(family_name)"
   ]
  },
  {
   "cell_type": "code",
   "execution_count": 72,
   "metadata": {},
   "outputs": [
    {
     "name": "stdout",
     "output_type": "stream",
     "text": [
      "['Maaz', 'Ammar', 'Ibad', 'Emmad', 'Sadia', 'Tanveer']\n"
     ]
    }
   ],
   "source": [
    "family_name: list[str] = [\"Maaz\",\"Ammar\",\"Ibad\",\"Emmad\"]\n",
    "new_member : list[str] = [\"Sadia\",\"Tanveer\"]\n",
    "family_name.extend(new_member)\n",
    "print(family_name)"
   ]
  },
  {
   "cell_type": "code",
   "execution_count": 73,
   "metadata": {},
   "outputs": [
    {
     "name": "stdout",
     "output_type": "stream",
     "text": [
      "['Maaz', 'Ammar', 'Ibad']\n"
     ]
    }
   ],
   "source": [
    "names: list[str] = [\"Maaz\",\"Ammar\",\"Ibad\",\"Emmad\"]\n",
    "names.remove(\"Emmad\")\n",
    "print(names)"
   ]
  },
  {
   "cell_type": "code",
   "execution_count": 75,
   "metadata": {},
   "outputs": [
    {
     "name": "stdout",
     "output_type": "stream",
     "text": [
      "1\n"
     ]
    }
   ],
   "source": [
    "names: list[str] = [\"Maaz\",\"Emmad\",\"Ammar\",\"Ibad\",\"Emmad\"]\n",
    "print(names.index(\"Emmad\"))\n"
   ]
  },
  {
   "cell_type": "code",
   "execution_count": 77,
   "metadata": {},
   "outputs": [
    {
     "name": "stdout",
     "output_type": "stream",
     "text": [
      "4\n"
     ]
    }
   ],
   "source": [
    "names: list[str] = [\"Maaz\",\"Emmad\",\"Ammar\",\"Ibad\",\"Emmad\"]\n",
    "print(names.index(\"Emmad\",3))"
   ]
  },
  {
   "cell_type": "code",
   "execution_count": null,
   "metadata": {},
   "outputs": [],
   "source": []
  }
 ],
 "metadata": {
  "kernelspec": {
   "display_name": "python276",
   "language": "python",
   "name": "python3"
  },
  "language_info": {
   "codemirror_mode": {
    "name": "ipython",
    "version": 3
   },
   "file_extension": ".py",
   "mimetype": "text/x-python",
   "name": "python",
   "nbconvert_exporter": "python",
   "pygments_lexer": "ipython3",
   "version": "3.12.0"
  }
 },
 "nbformat": 4,
 "nbformat_minor": 2
}

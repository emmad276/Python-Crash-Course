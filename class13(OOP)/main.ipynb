{
 "cells": [
  {
   "cell_type": "markdown",
   "metadata": {},
   "source": [
    "# OOP (Object Oriented Programming)\n",
    "\n",
    "* Class\n",
    "    * method\n",
    "        - first argument must be additional variable (self, this , or anything else) \n",
    "    * attributes\n",
    "    \n",
    "    * constructor\n",
    "        ```\n",
    "         def __init__(self, arg1, arg2)\n",
    "        ```\n",
    "\n",
    "* Syntax\n",
    "```\n",
    "class class_name():\n",
    "    pass\n",
    "\n",
    "```"
   ]
  },
  {
   "cell_type": "code",
   "execution_count": 12,
   "metadata": {},
   "outputs": [],
   "source": [
    "class Teacher():\n",
    "    def __init__(self, teacher_id: int, teacher_name: str):\n",
    "        self.name: str = teacher_name\n",
    "        self.tid = teacher_id\n",
    "        self.organization = \"PIAIC\"\n",
    "\n",
    "\n",
    "    def speak(self, words: str, months:int):\n",
    "        print(f\"{self.name} says: {words} for {months} months\")\n",
    "\n",
    "\n",
    "    def teaching(self, subject:str):\n",
    "        print(f\"{self.name} is teaching {subject}\")\n",
    "\n",
    "\n",
    "        "
   ]
  },
  {
   "cell_type": "code",
   "execution_count": 13,
   "metadata": {},
   "outputs": [],
   "source": [
    "obj1: Teacher = Teacher(1, \"Ali\")\n",
    "obj2: Teacher = Teacher(2, \"Ahmed\")"
   ]
  },
  {
   "cell_type": "code",
   "execution_count": 14,
   "metadata": {},
   "outputs": [
    {
     "name": "stdout",
     "output_type": "stream",
     "text": [
      "Ali\n",
      "1\n",
      "PIAIC\n",
      "Ahmed\n",
      "2\n",
      "PIAIC\n"
     ]
    }
   ],
   "source": [
    "print(obj1.name)\n",
    "print(obj1.tid)\n",
    "print(obj1.organization)\n",
    "\n",
    "\n",
    "print(obj2.name)\n",
    "print(obj2.tid)\n",
    "print(obj2.organization)"
   ]
  },
  {
   "cell_type": "code",
   "execution_count": 16,
   "metadata": {},
   "outputs": [
    {
     "name": "stdout",
     "output_type": "stream",
     "text": [
      "Ali says: Deep learning for 5 months\n"
     ]
    }
   ],
   "source": [
    "obj1.speak(\"Deep learning\", 5)"
   ]
  },
  {
   "cell_type": "code",
   "execution_count": 11,
   "metadata": {},
   "outputs": [
    {
     "name": "stdout",
     "output_type": "stream",
     "text": [
      "Ali is teaching Python Programming\n"
     ]
    }
   ],
   "source": [
    "obj1.teaching(\"Python Programming\")"
   ]
  },
  {
   "cell_type": "code",
   "execution_count": 17,
   "metadata": {},
   "outputs": [
    {
     "data": {
      "text/plain": [
       "['__class__',\n",
       " '__delattr__',\n",
       " '__dict__',\n",
       " '__dir__',\n",
       " '__doc__',\n",
       " '__eq__',\n",
       " '__format__',\n",
       " '__ge__',\n",
       " '__getattribute__',\n",
       " '__getstate__',\n",
       " '__gt__',\n",
       " '__hash__',\n",
       " '__init__',\n",
       " '__init_subclass__',\n",
       " '__le__',\n",
       " '__lt__',\n",
       " '__module__',\n",
       " '__ne__',\n",
       " '__new__',\n",
       " '__reduce__',\n",
       " '__reduce_ex__',\n",
       " '__repr__',\n",
       " '__setattr__',\n",
       " '__sizeof__',\n",
       " '__str__',\n",
       " '__subclasshook__',\n",
       " '__weakref__',\n",
       " 'name',\n",
       " 'organization',\n",
       " 'speak',\n",
       " 'teaching',\n",
       " 'tid']"
      ]
     },
     "execution_count": 17,
     "metadata": {},
     "output_type": "execute_result"
    }
   ],
   "source": [
    "dir(obj1)"
   ]
  },
  {
   "cell_type": "markdown",
   "metadata": {},
   "source": [
    "## Class Variable\n",
    "\n",
    "* class variable \n",
    "    - this value use for all object\n",
    "    - class_name.variable_name\n",
    "    - object_name.variable_name\n",
    "\n",
    "* Syntax\n",
    "```\n",
    "class ClassName():\n",
    "    class_variable1: type = value\n",
    "\n",
    "```\n",
    "\n"
   ]
  },
  {
   "cell_type": "code",
   "execution_count": 6,
   "metadata": {},
   "outputs": [],
   "source": [
    "class Teacher():\n",
    "    counter: int = 0        # class variable 1\n",
    "    helpline_number: str = \"03312069887\" # class variable 2\n",
    "    def __init__(self, teacher_id: int, teacher_name: str):\n",
    "        self.name: str = teacher_name\n",
    "        self.tid = teacher_id\n",
    "        self.organization = \"PIAIC\"\n",
    "\n",
    "\n",
    "    def speak(self, words: str, months:int):\n",
    "        print(f\"{self.name} says: {words} for {months} months\")\n",
    "\n",
    "\n",
    "    def teaching(self, subject:str):\n",
    "        print(f\"{self.name} is teaching {subject}\")\n",
    "\n",
    "    def detail(self):\n",
    "        information: str = f\"Teacher ID: {self.tid}, Name: {self.name}, Organization: {self.organization}, Counter {Teacher.counter}, Helpline Number: {Teacher.helpline_number}\"\n",
    "        print(information)\n",
    "\n",
    "\n",
    "object1: Teacher = Teacher(1, \"Ali\")\n",
    "object2: Teacher = Teacher(2, \"Ahmed\")"
   ]
  },
  {
   "cell_type": "code",
   "execution_count": 2,
   "metadata": {},
   "outputs": [
    {
     "name": "stdout",
     "output_type": "stream",
     "text": [
      "0\n"
     ]
    }
   ],
   "source": [
    "print(object1.counter)"
   ]
  },
  {
   "cell_type": "code",
   "execution_count": 4,
   "metadata": {},
   "outputs": [
    {
     "name": "stdout",
     "output_type": "stream",
     "text": [
      "03312069887\n",
      "03312069887\n"
     ]
    }
   ],
   "source": [
    "print(object1.helpline_number)\n",
    "print(Teacher.helpline_number) # class variable can be accessed using class name"
   ]
  },
  {
   "cell_type": "code",
   "execution_count": 7,
   "metadata": {},
   "outputs": [
    {
     "name": "stdout",
     "output_type": "stream",
     "text": [
      "Teacher ID: 1, Name: Ali, Organization: PIAIC, Counter 0, Helpline Number: 03312069887\n",
      "None\n"
     ]
    }
   ],
   "source": [
    "print(object1.detail())"
   ]
  },
  {
   "cell_type": "code",
   "execution_count": 8,
   "metadata": {},
   "outputs": [
    {
     "name": "stdout",
     "output_type": "stream",
     "text": [
      "1\n",
      "1\n"
     ]
    }
   ],
   "source": [
    "class Teacher():\n",
    "    counter: int = 0        # class variable 1\n",
    "    helpline_number: str = \"03312069887\" # class variable 2\n",
    "    def __init__(self, teacher_id: int, teacher_name: str):\n",
    "        self.name: str = teacher_name\n",
    "        self.tid = teacher_id\n",
    "        self.organization = \"PIAIC\"\n",
    "        Teacher.counter += 1 # incrementing the counter whenever a new object is created\n",
    "\n",
    "\n",
    "    def speak(self, words: str, months:int):\n",
    "        print(f\"{self.name} says: {words} for {months} months\")\n",
    "\n",
    "\n",
    "    def teaching(self, subject:str):\n",
    "        print(f\"{self.name} is teaching {subject}\")\n",
    "\n",
    "    def detail(self):\n",
    "        information: str = f\"Teacher ID: {self.tid}, Name: {self.name}, Organization: {self.organization}, Counter {Teacher.counter}, Helpline Number: {Teacher.helpline_number}\"\n",
    "        print(information)\n",
    "\n",
    "\n",
    "object1: Teacher = Teacher(1, \"Ali\")\n",
    "print(Teacher.counter) # 1\n",
    "print(object1.counter) # 1"
   ]
  },
  {
   "cell_type": "code",
   "execution_count": 10,
   "metadata": {},
   "outputs": [
    {
     "name": "stdout",
     "output_type": "stream",
     "text": [
      "1\n",
      "1\n"
     ]
    }
   ],
   "source": [
    "class Teacher():\n",
    "    counter: int = 0        # class variable 1\n",
    "    helpline_number: str = \"03312069887\" # class variable 2\n",
    "    def __init__(self, teacher_id: int, teacher_name: str):\n",
    "        self.name: str = teacher_name\n",
    "        self.tid = teacher_id\n",
    "        self.organization = \"PIAIC\"\n",
    "        Teacher.counter += 1 # incrementing the counter whenever a new object is created\n",
    "\n",
    "\n",
    "    def speak(self, words: str, months:int):\n",
    "        print(f\"{self.name} says: {words} for {months} months\")\n",
    "\n",
    "\n",
    "    def teaching(self, subject:str):\n",
    "        print(f\"{self.name} is teaching {subject}\")\n",
    "\n",
    "    def detail(self):\n",
    "        information: str = f\"Teacher ID: {self.tid}, Name: {self.name}, Organization: {self.organization}, Counter {Teacher.counter}, Helpline Number: {Teacher.helpline_number}\"\n",
    "        print(information)\n",
    "\n",
    "\n",
    "object1: Teacher = Teacher(1, \"Ali\")\n",
    "print(Teacher.counter) # 1\n",
    "print(object1.counter) # 1"
   ]
  },
  {
   "cell_type": "code",
   "execution_count": 11,
   "metadata": {},
   "outputs": [
    {
     "name": "stdout",
     "output_type": "stream",
     "text": [
      "2\n",
      "2\n"
     ]
    }
   ],
   "source": [
    "object2: Teacher = Teacher(2, \"Ahmed\")\n",
    "print(Teacher.counter) # 2\n",
    "print(object2.counter) # 2\n"
   ]
  },
  {
   "cell_type": "markdown",
   "metadata": {},
   "source": [
    "# 4 Pillars of OOP\n",
    "\n",
    "### 1. Encapsulation\n",
    "Definition: Wrapping data (attributes) and methods (functions) into a single unit — the class. It restricts direct access to some of the object's components.\n",
    "### 2. Abstraction\n",
    "Definition: Hiding complex implementation details and showing only essential features to the user.\n",
    "### 3. Inheritance\n",
    "Definition: One class (child/subclass) inherits the properties and methods of another class (parent/superclass).\n",
    "### 4. Polymorphism\n",
    "Definition: The ability to use the same method name in different classes, with different behaviors."
   ]
  },
  {
   "cell_type": "markdown",
   "metadata": {},
   "source": [
    "## Inheritance"
   ]
  },
  {
   "cell_type": "code",
   "execution_count": null,
   "metadata": {},
   "outputs": [
    {
     "name": "stdout",
     "output_type": "stream",
     "text": [
      "Black\n",
      "Brown\n",
      "Parents says: Hello\n",
      "None\n",
      "Parents are watching TV\n",
      "None\n",
      "------------------Child Object--------------------------------\n",
      "Black\n",
      "Brown\n",
      "Parents says: Hello\n",
      "None\n",
      "Parents are watching TV\n",
      "None\n"
     ]
    }
   ],
   "source": [
    "class Parents():\n",
    "    def __init__(self):\n",
    "        self.eye_color: str = \"Black\"\n",
    "        self.hair_color: str = \"Brown\"\n",
    "\n",
    "    def speak(self, words: str):\n",
    "        print(f\"Parents says: {words}\")\n",
    "\n",
    "    def watching(self, object_name: str):\n",
    "        print(f\"Parents are watching {object_name}\")\n",
    "\n",
    "class Child(Parents):\n",
    "    pass\n",
    "\n",
    "\n",
    "obj1 : Parents = Parents()\n",
    "print(obj1.eye_color) # Black\n",
    "print(obj1.hair_color) # Brown\n",
    "print(obj1.speak(\"Hello\")) # Parents says: Hello\n",
    "print(obj1.watching(\"TV\")) # Parents are watching TV\n",
    "\n",
    "print(\"------------------Child Object--------------------------------\")\n",
    "\n",
    "obj2 : Child = Child()\n",
    "print(obj2.eye_color) # Black   \n",
    "print(obj2.hair_color) # Brown\n",
    "print(obj2.speak(\"Hello\")) # Parents says: Hello\n",
    "print(obj2.watching(\"TV\")) # Parents are watching TV\n"
   ]
  },
  {
   "cell_type": "code",
   "execution_count": 22,
   "metadata": {},
   "outputs": [
    {
     "name": "stdout",
     "output_type": "stream",
     "text": [
      "Black\n",
      "Brown\n",
      "Parents says: Hello\n",
      "None\n",
      "Parents are watching TV\n",
      "None\n",
      "------------------Child Object--------------------------------\n",
      "Black\n",
      "Brown\n",
      "Parents says: Hello\n",
      "None\n",
      "Parents are watching TV\n",
      "None\n",
      "Child is teaching Python Programming\n",
      "None\n"
     ]
    }
   ],
   "source": [
    "class Parents():\n",
    "    def __init__(self):\n",
    "        self.eye_color: str = \"Black\"\n",
    "        self.hair_color: str = \"Brown\"\n",
    "\n",
    "    def speak(self, words: str)-> None:\n",
    "        print(f\"Parents says: {words}\")\n",
    "\n",
    "    def watching(self, object_name: str)-> None:\n",
    "        print(f\"Parents are watching {object_name}\")\n",
    "\n",
    "class Child(Parents):\n",
    "    def teaching(self, subject:str)-> None:\n",
    "        print(f\"Child is teaching {subject}\")\n",
    "        \n",
    "\n",
    "\n",
    "obj1 : Parents = Parents()\n",
    "print(obj1.eye_color) # Black\n",
    "print(obj1.hair_color) # Brown\n",
    "print(obj1.speak(\"Hello\")) # Parents says: Hello\n",
    "print(obj1.watching(\"TV\")) # Parents are watching TV\n",
    "\n",
    "print(\"------------------Child Object--------------------------------\")\n",
    "\n",
    "obj2 : Child = Child()\n",
    "print(obj2.eye_color) # Black   \n",
    "print(obj2.hair_color) # Brown\n",
    "print(obj2.speak(\"Hello\")) # Parents says: Hello\n",
    "print(obj2.watching(\"TV\")) # Parents are watching TV\n",
    "print(obj2.teaching(\"Python Programming\")) # Child is teaching Python Programming"
   ]
  },
  {
   "cell_type": "code",
   "execution_count": 23,
   "metadata": {},
   "outputs": [],
   "source": [
    "class Employee():\n",
    "    def __init__(self ,name: str):\n",
    "        self.name: str = name\n",
    "        self.salary: int = 50000\n",
    "        self.age: int = 30\n",
    "\n",
    "class Designer(Employee):\n",
    "    def __init__(self, designation: str, name):\n",
    "        super().__init__(name) # calling the constructor of the parent class\n",
    "        self.desig = designation\n",
    "\n",
    "class Developer(Employee):\n",
    "    def __init__(self, designation: str, name):\n",
    "        super().__init__(name) # calling the constructor of the parent class\n",
    "        self.programming_language = \"Python\"\n",
    "        self.desig = designation\n"
   ]
  },
  {
   "cell_type": "code",
   "execution_count": 25,
   "metadata": {},
   "outputs": [
    {
     "name": "stdout",
     "output_type": "stream",
     "text": [
      "Ali\n",
      "30\n",
      "50000\n"
     ]
    }
   ],
   "source": [
    "desig : Designer = Designer(\"UI/UX Designer\", \"Ali\")\n",
    "dev1 : Developer = Developer(\"Software Engineer\", \"Ahmed\")\n",
    "\n",
    "print(desig.name) # Ali\n",
    "print(desig.age)\n",
    "print(desig.salary) # 50000"
   ]
  },
  {
   "cell_type": "code",
   "execution_count": null,
   "metadata": {},
   "outputs": [
    {
     "name": "stdout",
     "output_type": "stream",
     "text": [
      "Ahmed\n",
      "30\n",
      "50000\n",
      "Python\n",
      "Software Engineer\n"
     ]
    }
   ],
   "source": [
    "print(dev1.name) # Ahmed\n",
    "print(dev1.age)\n",
    "print(dev1.salary) # 50000\n",
    "print(dev1.programming_language) # Python\n",
    "print(dev1.desig) # Software Engineer"
   ]
  },
  {
   "cell_type": "markdown",
   "metadata": {},
   "source": [
    "### Multiple Inheritance"
   ]
  },
  {
   "cell_type": "code",
   "execution_count": 38,
   "metadata": {},
   "outputs": [],
   "source": [
    "class Mother:\n",
    "    def __init__(self, name:str)-> None:\n",
    "        self.name: str = name\n",
    "        self.eye_color: str = \"Black\"\n",
    "        self.hair_color: str = \"Brown\"\n",
    "\n",
    "    def speak(self, words: str)-> None:\n",
    "        print(f\"Mother says: {words}\")\n",
    "    \n",
    "\n",
    "class Father():\n",
    "    def __init__(self, name:str):\n",
    "        self.name: str = name\n",
    "        self.height: str = \"5.8\"\n",
    "\n",
    "    def speak(self, words: str)-> None:\n",
    "        print(f\"Father says: {words}\")\n",
    "\n",
    "\n",
    "class Child(Mother, Father):\n",
    "    def __init__(self, mother_name: str, father_name:str, child_name:str)-> None:\n",
    "        Mother.__init__(self, mother_name) # calling the constructor of the parent class\n",
    "        Father.__init__(self, father_name) # calling the constructor of the parent class\n",
    "        self.child_name = child_name\n",
    "        "
   ]
  },
  {
   "cell_type": "code",
   "execution_count": 39,
   "metadata": {},
   "outputs": [
    {
     "name": "stdout",
     "output_type": "stream",
     "text": [
      "Mother says: hello\n",
      "None\n",
      "5.8\n"
     ]
    }
   ],
   "source": [
    "objj: Child = Child(\"Sadia\", \"Tanveer\", \"Emmad\")\n",
    "print(objj.speak(\"hello\")) # Mother says: Hello\n",
    "print(objj.height)"
   ]
  },
  {
   "cell_type": "code",
   "execution_count": 40,
   "metadata": {},
   "outputs": [],
   "source": [
    "class Mother:\n",
    "    def __init__(self, name:str)-> None:\n",
    "        self.name: str = name\n",
    "        self.eye_color: str = \"Black\"\n",
    "        self.hair_color: str = \"Brown\"\n",
    "\n",
    "    def speak(self, words: str)-> None:\n",
    "        print(f\"Mother says: {words}\")\n",
    "    \n",
    "\n",
    "class Father():\n",
    "    def __init__(self, name:str):\n",
    "        self.name: str = name\n",
    "        self.height: str = \"5.8\"\n",
    "\n",
    "    def speak(self, words: str)-> None:\n",
    "        print(f\"Father says: {words}\")\n",
    "\n",
    "\n",
    "class Child(Father, Mother):\n",
    "    def __init__(self, mother_name: str, father_name:str, child_name:str)-> None:\n",
    "        Mother.__init__(self, mother_name) # calling the constructor of the parent class\n",
    "        Father.__init__(self, father_name) # calling the constructor of the parent class\n",
    "        self.child_name = child_name\n",
    "        "
   ]
  },
  {
   "cell_type": "code",
   "execution_count": 41,
   "metadata": {},
   "outputs": [
    {
     "name": "stdout",
     "output_type": "stream",
     "text": [
      "Father says: hello\n",
      "None\n",
      "5.8\n"
     ]
    }
   ],
   "source": [
    "objj: Child = Child(\"Sadia\", \"Tanveer\", \"Emmad\")\n",
    "print(objj.speak(\"hello\")) # Mother says: Hello\n",
    "print(objj.height)"
   ]
  },
  {
   "cell_type": "code",
   "execution_count": 30,
   "metadata": {},
   "outputs": [
    {
     "data": {
      "text/plain": [
       "['__class__',\n",
       " '__delattr__',\n",
       " '__dict__',\n",
       " '__dir__',\n",
       " '__doc__',\n",
       " '__eq__',\n",
       " '__format__',\n",
       " '__ge__',\n",
       " '__getattribute__',\n",
       " '__getstate__',\n",
       " '__gt__',\n",
       " '__hash__',\n",
       " '__init__',\n",
       " '__init_subclass__',\n",
       " '__le__',\n",
       " '__lt__',\n",
       " '__module__',\n",
       " '__ne__',\n",
       " '__new__',\n",
       " '__reduce__',\n",
       " '__reduce_ex__',\n",
       " '__repr__',\n",
       " '__setattr__',\n",
       " '__sizeof__',\n",
       " '__str__',\n",
       " '__subclasshook__',\n",
       " '__weakref__',\n",
       " 'child_name',\n",
       " 'eye_color',\n",
       " 'hair_color',\n",
       " 'height',\n",
       " 'name',\n",
       " 'speak']"
      ]
     },
     "execution_count": 30,
     "metadata": {},
     "output_type": "execute_result"
    }
   ],
   "source": [
    "dir(objj) # to see all the attributes and methods of the object"
   ]
  },
  {
   "cell_type": "markdown",
   "metadata": {},
   "source": [
    "### Method Overloading\n",
    "\n",
    "* Method overloading ka matlab hai — class ke andar aik hi naam ke multiple methods hona, lekin different number of parameters.\n",
    "     "
   ]
  },
  {
   "cell_type": "code",
   "execution_count": 44,
   "metadata": {},
   "outputs": [
    {
     "name": "stdout",
     "output_type": "stream",
     "text": [
      "3\n",
      "4.0\n",
      "Hello, world!\n"
     ]
    }
   ],
   "source": [
    "from typing import Union, overload\n",
    "\n",
    "class Adder:\n",
    "    @overload\n",
    "    def add(self, x: int, y: int) -> int:\n",
    "        ...\n",
    "        \n",
    "    @overload\n",
    "    def add(self, x: float, y: float) -> float:\n",
    "        ...\n",
    "        \n",
    "    @overload\n",
    "    def add(self, x: str, y: str) -> str:\n",
    "        ...\n",
    "        \n",
    "    \n",
    "    def add(self, x: Union[int, float, str], y: Union[int, float, str]) -> Union[int, float, str]:\n",
    "        if isinstance(x, int) and isinstance(y, int):\n",
    "            return x + y\n",
    "        elif isinstance(x, float) and isinstance(y, float):\n",
    "            return x + y\n",
    "        elif isinstance(x, str) and isinstance(y, str):\n",
    "            return x + y\n",
    "        else:\n",
    "            raise TypeError(\"Invalid argument types!\")\n",
    "\n",
    "# Usage examples\n",
    "adder = Adder()\n",
    "result1 = adder.add(1, 2)  # Should return 3\n",
    "result2 = adder.add(1.5, 2.5)  # Should return 4.0\n",
    "result3 = adder.add(\"Hello, \", \"world!\")  # Should return \"Hello, world!\"\n",
    "\n",
    "print(result1)\n",
    "print(result2)\n",
    "print(result3)\n",
    "\n",
    "# Overridding & polymorphism"
   ]
  },
  {
   "cell_type": "code",
   "execution_count": 48,
   "metadata": {},
   "outputs": [
    {
     "ename": "TypeError",
     "evalue": "'Adder' object is not callable",
     "output_type": "error",
     "traceback": [
      "\u001b[1;31m---------------------------------------------------------------------------\u001b[0m",
      "\u001b[1;31mTypeError\u001b[0m                                 Traceback (most recent call last)",
      "Cell \u001b[1;32mIn[48], line 1\u001b[0m\n\u001b[1;32m----> 1\u001b[0m \u001b[43madder\u001b[49m\u001b[43m(\u001b[49m\u001b[43m[\u001b[49m\u001b[38;5;241;43m1\u001b[39;49m\u001b[43m,\u001b[49m\u001b[38;5;241;43m2\u001b[39;49m\u001b[43m,\u001b[49m\u001b[38;5;241;43m3\u001b[39;49m\u001b[43m]\u001b[49m\u001b[43m,\u001b[49m\u001b[43m \u001b[49m\u001b[43m[\u001b[49m\u001b[38;5;241;43m1\u001b[39;49m\u001b[43m,\u001b[49m\u001b[38;5;241;43m2\u001b[39;49m\u001b[43m,\u001b[49m\u001b[38;5;241;43m4\u001b[39;49m\u001b[43m]\u001b[49m\u001b[43m)\u001b[49m\n",
      "\u001b[1;31mTypeError\u001b[0m: 'Adder' object is not callable"
     ]
    }
   ],
   "source": [
    "adder([1,2,3], [1,2,4])"
   ]
  },
  {
   "cell_type": "markdown",
   "metadata": {},
   "source": [
    "### Function Overloading\n",
    "\n",
    "* Function overloading ka matlab hota hai — aik hi naam ke multiple functions banana lekin alag arguments ke saath."
   ]
  },
  {
   "cell_type": "code",
   "execution_count": 47,
   "metadata": {},
   "outputs": [],
   "source": [
    "from typing import Union, overload\n",
    "\n",
    "@overload\n",
    "def add(x: int, y: int) -> int:\n",
    "    ...\n",
    "\n",
    "@overload\n",
    "def add(x: float, y: float) -> float:\n",
    "    ...\n",
    "\n",
    "@overload\n",
    "def add(x: str, y: str) -> str:\n",
    "    ...\n",
    "\n",
    "def add(x: Union[int, float, str], y: Union[int, float, str]) -> Union[int, float, str]:\n",
    "    if isinstance(x, int) and isinstance(y, int):\n",
    "        return x + y\n",
    "    elif isinstance(x, float) and isinstance(y, float):\n",
    "        return x + y\n",
    "    elif isinstance(x, str) and isinstance(y, str):\n",
    "        return x + y\n",
    "    else:\n",
    "        raise TypeError(\"Invalid argument types!\")\n",
    "\n",
    "# Usage examples\n",
    "result1 = add(1, 2)  # Should return 3\n",
    "result2 = add(1.5, 2.5)  # Should return 4.0\n",
    "result3 = add(\"Hello, \", \"world!\")  # Should return \"Hello, world!\"\n"
   ]
  },
  {
   "cell_type": "markdown",
   "metadata": {},
   "source": [
    "### Overridding\n",
    "\n",
    "* Jab child class (yaani derived class) parent class (yaani base class) ke kisi method ko dubara likhti hai apne tareeqe se — isi ko method overriding kehte hain."
   ]
  },
  {
   "cell_type": "code",
   "execution_count": 49,
   "metadata": {},
   "outputs": [
    {
     "name": "stdout",
     "output_type": "stream",
     "text": [
      "Bird is eating bread\n",
      "Animal is eating grass\n"
     ]
    }
   ],
   "source": [
    "class Animal():\n",
    "    def eating(self,food : str )->None: #same method \n",
    "        print(f\"Animal is eating {food}\")\n",
    "\n",
    "\n",
    "class Bird(Animal):\n",
    "    def eating(self, food: str) -> None:\n",
    "        print(f\"Bird is eating {food}\")\n",
    "\n",
    "\n",
    "bird : Bird = Bird()\n",
    "bird.eating(\"bread\")\n",
    "\n",
    "animal : Animal = Animal()\n",
    "animal.eating(\"grass\")"
   ]
  },
  {
   "cell_type": "markdown",
   "metadata": {},
   "source": [
    "### Polymorphism\n",
    "\n",
    "* Polymorphism ka matlab hai ek hi naam ka function ya method, lekin alag behavior depending on object ya class.\n"
   ]
  },
  {
   "cell_type": "code",
   "execution_count": 50,
   "metadata": {},
   "outputs": [
    {
     "name": "stdout",
     "output_type": "stream",
     "text": [
      "Bird is eating grass\n"
     ]
    }
   ],
   "source": [
    "animal : Animal = Bird()# run time it will decide which object method it will be run\n",
    "animal.eating(\"grass\")"
   ]
  },
  {
   "cell_type": "code",
   "execution_count": 51,
   "metadata": {},
   "outputs": [
    {
     "name": "stdout",
     "output_type": "stream",
     "text": [
      "<class '__main__.Bird'>\n"
     ]
    }
   ],
   "source": [
    "print(type(animal))"
   ]
  },
  {
   "cell_type": "code",
   "execution_count": 52,
   "metadata": {},
   "outputs": [
    {
     "name": "stdout",
     "output_type": "stream",
     "text": [
      "Animal is eating grass\n"
     ]
    }
   ],
   "source": [
    "animal : Animal = Animal()\n",
    "animal.eating(\"grass\")"
   ]
  },
  {
   "cell_type": "markdown",
   "metadata": {},
   "source": [
    "### Static Method and Static variable(class variable)\n",
    "\n",
    "* Static variable poori class ke liye common hota hai, chahe jitne bhi objects bano.\n",
    "Yeh class ke andar define hota hai, lekin kisi specific object ka nahi hota — sab objects ke liye same hota hai.\n",
    "\n",
    "\n",
    "* Static method wo hota hai jo na to self (object) aur na hi cls (class) ka use karta hai.\n",
    "Yeh method class ke andar hota hai, lekin object se related nahi hota.\n",
    "\n",
    "👉 Isay @staticmethod decorator ke saath banaya jata hai."
   ]
  },
  {
   "cell_type": "code",
   "execution_count": 53,
   "metadata": {},
   "outputs": [
    {
     "name": "stdout",
     "output_type": "stream",
     "text": [
      "Addition: 30\n",
      "Multiplication: 200\n",
      "Static variable or Class variable PIAIC\n"
     ]
    }
   ],
   "source": [
    "class MathOperations:\n",
    "\n",
    "    counter : int = 100\n",
    "    organization : str = \"PIAIC\"\n",
    "\n",
    "    @staticmethod\n",
    "    def add(x: int, y: int) -> int:\n",
    "        \"\"\"Add two numbers.\"\"\"\n",
    "        return x + y\n",
    "\n",
    "    @staticmethod\n",
    "    def multiply(x: int, y: int) -> int:\n",
    "        \"\"\"Multiply two numbers.\"\"\"\n",
    "        return x * y\n",
    "\n",
    "# Using the static methods\n",
    "result_add = MathOperations.add(10, 20)\n",
    "result_multiply = MathOperations.multiply(10, 20)\n",
    "\n",
    "print(\"Addition:\", result_add)\n",
    "print(\"Multiplication:\", result_multiply)\n",
    "\n",
    "print(\"Static variable or Class variable\",MathOperations.organization)"
   ]
  },
  {
   "cell_type": "markdown",
   "metadata": {},
   "source": [
    "## Everything is an object"
   ]
  },
  {
   "cell_type": "code",
   "execution_count": 54,
   "metadata": {},
   "outputs": [
    {
     "name": "stdout",
     "output_type": "stream",
     "text": [
      "Human is eating Biryani\n"
     ]
    }
   ],
   "source": [
    "class Human():\n",
    "    def eating(self, food : str)->None:\n",
    "        print(f\"Human is eating {food}\")\n",
    "\n",
    "    \n",
    "obj1 : Human = Human()\n",
    "obj1.eating(\"Biryani\")"
   ]
  },
  {
   "cell_type": "code",
   "execution_count": 55,
   "metadata": {},
   "outputs": [
    {
     "data": {
      "text/plain": [
       "['__class__',\n",
       " '__delattr__',\n",
       " '__dict__',\n",
       " '__dir__',\n",
       " '__doc__',\n",
       " '__eq__',\n",
       " '__format__',\n",
       " '__ge__',\n",
       " '__getattribute__',\n",
       " '__getstate__',\n",
       " '__gt__',\n",
       " '__hash__',\n",
       " '__init__',\n",
       " '__init_subclass__',\n",
       " '__le__',\n",
       " '__lt__',\n",
       " '__module__',\n",
       " '__ne__',\n",
       " '__new__',\n",
       " '__reduce__',\n",
       " '__reduce_ex__',\n",
       " '__repr__',\n",
       " '__setattr__',\n",
       " '__sizeof__',\n",
       " '__str__',\n",
       " '__subclasshook__',\n",
       " '__weakref__',\n",
       " 'eating']"
      ]
     },
     "execution_count": 55,
     "metadata": {},
     "output_type": "execute_result"
    }
   ],
   "source": [
    "dir(obj1)"
   ]
  },
  {
   "cell_type": "code",
   "execution_count": 56,
   "metadata": {},
   "outputs": [
    {
     "data": {
      "text/plain": [
       "['__class__',\n",
       " '__delattr__',\n",
       " '__dir__',\n",
       " '__doc__',\n",
       " '__eq__',\n",
       " '__format__',\n",
       " '__ge__',\n",
       " '__getattribute__',\n",
       " '__getstate__',\n",
       " '__gt__',\n",
       " '__hash__',\n",
       " '__init__',\n",
       " '__init_subclass__',\n",
       " '__le__',\n",
       " '__lt__',\n",
       " '__ne__',\n",
       " '__new__',\n",
       " '__reduce__',\n",
       " '__reduce_ex__',\n",
       " '__repr__',\n",
       " '__setattr__',\n",
       " '__sizeof__',\n",
       " '__str__',\n",
       " '__subclasshook__']"
      ]
     },
     "execution_count": 56,
     "metadata": {},
     "output_type": "execute_result"
    }
   ],
   "source": [
    "dir(object)"
   ]
  },
  {
   "cell_type": "code",
   "execution_count": 57,
   "metadata": {},
   "outputs": [
    {
     "name": "stdout",
     "output_type": "stream",
     "text": [
      "Human is eating Biryani\n"
     ]
    }
   ],
   "source": [
    "class Human1(object):\n",
    "    def eating(self, food : str)->None:\n",
    "        print(f\"Human is eating {food}\")\n",
    "\n",
    "obj2 : Human1 = Human1()\n",
    "obj2.eating(\"Biryani\")"
   ]
  },
  {
   "cell_type": "code",
   "execution_count": 58,
   "metadata": {},
   "outputs": [
    {
     "data": {
      "text/plain": [
       "['__class__',\n",
       " '__delattr__',\n",
       " '__dict__',\n",
       " '__dir__',\n",
       " '__doc__',\n",
       " '__eq__',\n",
       " '__format__',\n",
       " '__ge__',\n",
       " '__getattribute__',\n",
       " '__getstate__',\n",
       " '__gt__',\n",
       " '__hash__',\n",
       " '__init__',\n",
       " '__init_subclass__',\n",
       " '__le__',\n",
       " '__lt__',\n",
       " '__module__',\n",
       " '__ne__',\n",
       " '__new__',\n",
       " '__reduce__',\n",
       " '__reduce_ex__',\n",
       " '__repr__',\n",
       " '__setattr__',\n",
       " '__sizeof__',\n",
       " '__str__',\n",
       " '__subclasshook__',\n",
       " '__weakref__',\n",
       " 'eating']"
      ]
     },
     "execution_count": 58,
     "metadata": {},
     "output_type": "execute_result"
    }
   ],
   "source": [
    "dir(obj2)"
   ]
  },
  {
   "cell_type": "markdown",
   "metadata": {},
   "source": [
    "## Callable"
   ]
  },
  {
   "cell_type": "code",
   "execution_count": 59,
   "metadata": {},
   "outputs": [
    {
     "name": "stdout",
     "output_type": "stream",
     "text": [
      "Human is eating Biryani\n",
      "Human is eating Nihari!\n"
     ]
    }
   ],
   "source": [
    "from typing import Any\n",
    "\n",
    "\n",
    "class Human1(object):\n",
    "    def eating(self, food : str)->None:\n",
    "        print(f\"Human is eating {food}\")\n",
    "\n",
    "    def __call__(self) -> None:\n",
    "        self.eating(\"Nihari!\")\n",
    "\n",
    "obj3 : Human1 = Human1()\n",
    "obj3.eating(\"Biryani\")\n",
    "\n",
    "obj3.__call__()"
   ]
  },
  {
   "cell_type": "code",
   "execution_count": 60,
   "metadata": {},
   "outputs": [
    {
     "data": {
      "text/plain": [
       "<__main__.Human1 at 0x227a3bde690>"
      ]
     },
     "execution_count": 60,
     "metadata": {},
     "output_type": "execute_result"
    }
   ],
   "source": [
    "Human1()"
   ]
  }
 ],
 "metadata": {
  "kernelspec": {
   "display_name": "python276",
   "language": "python",
   "name": "python3"
  },
  "language_info": {
   "codemirror_mode": {
    "name": "ipython",
    "version": 3
   },
   "file_extension": ".py",
   "mimetype": "text/x-python",
   "name": "python",
   "nbconvert_exporter": "python",
   "pygments_lexer": "ipython3",
   "version": "3.12.0"
  }
 },
 "nbformat": 4,
 "nbformat_minor": 2
}

{
 "cells": [
  {
   "cell_type": "markdown",
   "metadata": {},
   "source": [
    "# Loop ad input from user\n",
    "* While\n",
    "* For\n",
    "* controls\n",
    "    * break\n",
    "    * continue\n",
    "    * pass\n",
    "* input\n",
    "* input from console\n",
    "\n",
    "# Loop working on iterative data types\n",
    "* list\n",
    "* dictionary\n",
    "* tuple\n",
    "* string\n",
    "* set\n",
    "* Range\n",
    "* Files"
   ]
  },
  {
   "cell_type": "markdown",
   "metadata": {},
   "source": [
    "### Iteration perform on List"
   ]
  },
  {
   "cell_type": "code",
   "execution_count": 2,
   "metadata": {},
   "outputs": [
    {
     "name": "stdout",
     "output_type": "stream",
     "text": [
      "['1', '2', '3', '4', '5']\n"
     ]
    }
   ],
   "source": [
    "list1: list[str] = [\"1\",\"2\",\"3\",\"4\",\"5\"]\n",
    "print(list1)\n"
   ]
  },
  {
   "cell_type": "code",
   "execution_count": 4,
   "metadata": {},
   "outputs": [
    {
     "name": "stdout",
     "output_type": "stream",
     "text": [
      "1\n",
      "2\n",
      "3\n",
      "4\n",
      "5\n"
     ]
    }
   ],
   "source": [
    "list1: list[str] = [\"1\",\"2\",\"3\",\"4\",\"5\"]\n",
    "for li in list1:\n",
    "    print(li)"
   ]
  },
  {
   "cell_type": "code",
   "execution_count": 6,
   "metadata": {},
   "outputs": [
    {
     "name": "stdout",
     "output_type": "stream",
     "text": [
      "Please Welcome, Nice to meet you Mr. Maaz\n",
      "Please Welcome, Nice to meet you Mr. Ammar\n",
      "Please Welcome, Nice to meet you Mr. Ibad\n",
      "Please Welcome, Nice to meet you Mr. Emmad\n"
     ]
    }
   ],
   "source": [
    "names : list[str] = [\"Maaz\",\"Ammar\",\"Ibad\",\"Emmad\"]\n",
    "for name in names:\n",
    "    print(f\"Please Welcome, Nice to meet you Mr. {name}\")"
   ]
  },
  {
   "cell_type": "markdown",
   "metadata": {},
   "source": [
    "### Iteration perform on String"
   ]
  },
  {
   "cell_type": "code",
   "execution_count": 7,
   "metadata": {},
   "outputs": [
    {
     "name": "stdout",
     "output_type": "stream",
     "text": [
      "P\n",
      "a\n",
      "k\n",
      "i\n",
      "s\n",
      "t\n",
      "a\n",
      "n\n"
     ]
    }
   ],
   "source": [
    "li : str = \"Pakistan\"\n",
    "for c in li:\n",
    "    print(c)"
   ]
  },
  {
   "cell_type": "markdown",
   "metadata": {},
   "source": [
    "### Iteration perform on Dictionary"
   ]
  },
  {
   "cell_type": "code",
   "execution_count": 18,
   "metadata": {},
   "outputs": [
    {
     "name": "stdout",
     "output_type": "stream",
     "text": [
      "name\n",
      "address\n",
      "contact\n"
     ]
    }
   ],
   "source": [
    "detail: dict[str, str] = {\n",
    "    \"name\": \"Syed Emmad Ahmed\",\n",
    "    \"address\": \"Block-13\",\n",
    "    \"contact\":\"03352316036\"\n",
    "\n",
    "}\n",
    "for k in detail:\n",
    "    print(k)                         # by default it perform on keys"
   ]
  },
  {
   "cell_type": "code",
   "execution_count": 21,
   "metadata": {},
   "outputs": [
    {
     "name": "stdout",
     "output_type": "stream",
     "text": [
      "Dictionary key is name  and its value is Syed Emmad Ahmed\n",
      "Dictionary key is address  and its value is Block-13\n",
      "Dictionary key is contact  and its value is 03352316036\n"
     ]
    }
   ],
   "source": [
    "detail: dict[str, str] = {\n",
    "    \"name\": \"Syed Emmad Ahmed\",\n",
    "    \"address\": \"Block-13\",\n",
    "    \"contact\":\"03352316036\"\n",
    "\n",
    "}\n",
    "for k in detail:\n",
    "    print(f\"Dictionary key is {k}  and its value is {detail[k]}\")"
   ]
  },
  {
   "cell_type": "markdown",
   "metadata": {},
   "source": [
    "### Iteration perform on Set"
   ]
  },
  {
   "cell_type": "code",
   "execution_count": 23,
   "metadata": {},
   "outputs": [
    {
     "name": "stdout",
     "output_type": "stream",
     "text": [
      "1\n",
      "2\n",
      "3\n",
      "4\n",
      "5\n"
     ]
    }
   ],
   "source": [
    "sett: set[int] = {1,2,3,4,5,3,2,1,4,5,3,2,1}\n",
    "for s in sett:\n",
    "    print(s)"
   ]
  },
  {
   "cell_type": "markdown",
   "metadata": {},
   "source": [
    "### Iteration perform on Tuple"
   ]
  },
  {
   "cell_type": "code",
   "execution_count": 25,
   "metadata": {},
   "outputs": [
    {
     "name": "stdout",
     "output_type": "stream",
     "text": [
      "1\n",
      "2\n",
      "3\n",
      "4\n",
      "5\n",
      "6\n"
     ]
    }
   ],
   "source": [
    "from typing import Tuple\n",
    "mytuple: Tuple[int] = (1,2,3,4,5,6) \n",
    "for tup in mytuple:\n",
    "    print(tup)"
   ]
  },
  {
   "cell_type": "markdown",
   "metadata": {},
   "source": [
    "### Iteration perform on Range"
   ]
  },
  {
   "cell_type": "code",
   "execution_count": 28,
   "metadata": {},
   "outputs": [
    {
     "name": "stdout",
     "output_type": "stream",
     "text": [
      "0\n",
      "1\n",
      "2\n",
      "3\n",
      "4\n",
      "5\n",
      "6\n",
      "7\n",
      "8\n",
      "9\n"
     ]
    }
   ],
   "source": [
    "for i in range(10):\n",
    "    print(i)"
   ]
  },
  {
   "cell_type": "markdown",
   "metadata": {},
   "source": [
    "# Input from User\n",
    "* Input function\n",
    "    * default type = string\n",
    "* sys.argv(for console input in abc.py file)\n",
    "    * default type = object"
   ]
  },
  {
   "cell_type": "code",
   "execution_count": 5,
   "metadata": {},
   "outputs": [
    {
     "name": "stdout",
     "output_type": "stream",
     "text": [
      "<class 'str'>\n",
      "My name is Syed Emmad Ahmed\n"
     ]
    }
   ],
   "source": [
    "name: str= input(\"Enter your name\")\n",
    "print(type(name))\n",
    "print(f\"My name is {name}\")\n"
   ]
  },
  {
   "cell_type": "markdown",
   "metadata": {},
   "source": [
    "# While Loop\n"
   ]
  },
  {
   "cell_type": "code",
   "execution_count": 8,
   "metadata": {},
   "outputs": [
    {
     "name": "stdout",
     "output_type": "stream",
     "text": [
      "Cureent number is 0\n",
      "Cureent number is 1\n",
      "Cureent number is 2\n",
      "Cureent number is 3\n",
      "Cureent number is 4\n",
      "Cureent number is 5\n",
      "Cureent number is 6\n",
      "Cureent number is 7\n",
      "Cureent number is 8\n",
      "Cureent number is 9\n"
     ]
    }
   ],
   "source": [
    "flag = True\n",
    "current_number = 0\n",
    "while flag:\n",
    "    print(f\"Cureent number is {current_number}\")\n",
    "    current_number += 1\n",
    "    if current_number == 10 :\n",
    "        break"
   ]
  },
  {
   "cell_type": "code",
   "execution_count": 3,
   "metadata": {},
   "outputs": [
    {
     "name": "stdout",
     "output_type": "stream",
     "text": [
      "Cureent index is : 0 and list value is 100\n",
      "Cureent index is : 1 and list value is 200\n",
      "Cureent index is : 2 and list value is 300\n"
     ]
    }
   ],
   "source": [
    "l1 : list[int] = [100,200,300]\n",
    "indx: int= 0\n",
    "while indx < len(l1):\n",
    "    print(f\"Cureent index is : {indx} and list value is {l1[indx]}\")\n",
    "    indx += 1"
   ]
  }
 ],
 "metadata": {
  "kernelspec": {
   "display_name": "python276",
   "language": "python",
   "name": "python3"
  },
  "language_info": {
   "codemirror_mode": {
    "name": "ipython",
    "version": 3
   },
   "file_extension": ".py",
   "mimetype": "text/x-python",
   "name": "python",
   "nbconvert_exporter": "python",
   "pygments_lexer": "ipython3",
   "version": "3.12.0"
  }
 },
 "nbformat": 4,
 "nbformat_minor": 2
}

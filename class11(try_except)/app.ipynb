{
 "cells": [
  {
   "cell_type": "markdown",
   "metadata": {},
   "source": [
    "### 1. Mutable Objects    (Pass by Reference)\n",
    "\n",
    "\n",
    "-  Mutable objects can be modified after creation. Examples include lists, dictionaries, and sets. Changes to these objects affect their memory contents.\n",
    "\n"
   ]
  },
  {
   "cell_type": "code",
   "execution_count": 6,
   "metadata": {},
   "outputs": [
    {
     "name": "stdout",
     "output_type": "stream",
     "text": [
      "list_b:  [1, 2, 3, 4]\n"
     ]
    }
   ],
   "source": [
    "list_a: list[int] = [1,2,3]\n",
    "list_b = list_a\n",
    "list_a.append(4)\n",
    "print(\"list_b: \", list_b)\n",
    "\n",
    "\n",
    "#  The change in `list_a` is reflected in `list_b` since they refer to the same object."
   ]
  },
  {
   "cell_type": "code",
   "execution_count": 11,
   "metadata": {},
   "outputs": [
    {
     "name": "stdout",
     "output_type": "stream",
     "text": [
      "num1 value:  [1, 2, 3, 4, 200]\n",
      "[1, 2, 3, 4, 200]\n"
     ]
    }
   ],
   "source": [
    "a: list[int] = [1,2,3,4]\n",
    "\n",
    "def abc(num1:int)->None:\n",
    "    num1.append(200)\n",
    "    print(\"num1 value: \", num1)\n",
    "\n",
    "abc(a)\n",
    "\n",
    "print(a)\n",
    "\n",
    "# actual object is also changed when we use list, set or dictionary "
   ]
  },
  {
   "cell_type": "markdown",
   "metadata": {},
   "source": [
    "##### proof with ID\n",
    "- her jaga address same rahe ge"
   ]
  },
  {
   "cell_type": "code",
   "execution_count": 22,
   "metadata": {},
   "outputs": [
    {
     "name": "stdout",
     "output_type": "stream",
     "text": [
      "ID of 'a': 2398022129600\n",
      "ID of 'num1': 2398022129600\n",
      "num1 value:  [1, 2, 3, 4, 200]\n",
      "ID of 'num1': 2398022129600\n",
      "ID of 'a': 2398022129600\n",
      "[1, 2, 3, 4, 200]\n"
     ]
    }
   ],
   "source": [
    "a: list[int] = [1,2,3,4]\n",
    "\n",
    "print(\"ID of 'a':\", id(a))\n",
    "def abc(num1:int)->None:\n",
    "    print(\"ID of 'num1':\", id(num1))\n",
    "    num1.append(200)\n",
    "    print(\"num1 value: \", num1)\n",
    "    \n",
    "    print(\"ID of 'num1':\", id(num1))\n",
    "    print(\"ID of 'a':\", id(a))\n",
    "\n",
    "abc(a)\n",
    "\n",
    "print(a)"
   ]
  },
  {
   "cell_type": "code",
   "execution_count": 24,
   "metadata": {},
   "outputs": [
    {
     "name": "stdout",
     "output_type": "stream",
     "text": [
      "2398022201728\n",
      "2398021289984\n"
     ]
    }
   ],
   "source": [
    "a : list[int] = [1,2,3,4]\n",
    "b: list[int] = [1,2,3,4]\n",
    "print(id(a))\n",
    "print(id(b))"
   ]
  },
  {
   "cell_type": "markdown",
   "metadata": {},
   "source": [
    "### Pass by Copy of a Reference\n"
   ]
  },
  {
   "cell_type": "code",
   "execution_count": null,
   "metadata": {},
   "outputs": [
    {
     "name": "stdout",
     "output_type": "stream",
     "text": [
      "num1 value:  [200]\n",
      "[1, 2, 3, 4]\n"
     ]
    }
   ],
   "source": [
    "a: list[int] = [1,2,3,4]\n",
    "\n",
    "def abc(num1:int)->None:\n",
    "    num1 = []\n",
    "    num1.append(200)\n",
    "    print(\"num1 value: \", num1)\n",
    "\n",
    "abc(a)\n",
    "\n",
    "print(a)"
   ]
  },
  {
   "cell_type": "markdown",
   "metadata": {},
   "source": [
    "##### Proof with ID"
   ]
  },
  {
   "cell_type": "code",
   "execution_count": 21,
   "metadata": {},
   "outputs": [
    {
     "name": "stdout",
     "output_type": "stream",
     "text": [
      "ID of 'a': 2398022012160\n",
      "ID of 'num1': 2398022012160\n",
      "num1 value:  [200]\n",
      "ID of 'num1': 2398021076864\n",
      "ID of 'a': 2398022012160\n",
      "[1, 2, 3, 4]\n"
     ]
    }
   ],
   "source": [
    "a: list[int] = [1,2,3,4]\n",
    "\n",
    "print(\"ID of 'a':\", id(a))\n",
    "def abc(num1:int)->None:\n",
    "    print(\"ID of 'num1':\", id(num1))\n",
    "    num1 = []\n",
    "    num1.append(200)\n",
    "    print(\"num1 value: \", num1)\n",
    "    print(\"ID of 'num1':\", id(num1))\n",
    "    print(\"ID of 'a':\", id(a))\n",
    "\n",
    "abc(a)\n",
    "\n",
    "print(a)"
   ]
  },
  {
   "cell_type": "markdown",
   "metadata": {},
   "source": [
    "### 2. Immutable Objects   (Pass by Value/Copy)\n",
    "-  Immutable objects cannot be modified once created. Examples include integers, floats, strings, and tuples. Any \"modification\" results in a new object."
   ]
  },
  {
   "cell_type": "code",
   "execution_count": 5,
   "metadata": {},
   "outputs": [
    {
     "name": "stdout",
     "output_type": "stream",
     "text": [
      "num_b: 5\n"
     ]
    }
   ],
   "source": [
    "num_a = 5\n",
    "\n",
    "num_b = num_a\n",
    "\n",
    "num_a += 1\n",
    "\n",
    "print(\"num_b:\", num_b)\n",
    "\n",
    "\n",
    "#  The variable `num_b` still points to the original object, while `num_a` references the new object."
   ]
  },
  {
   "cell_type": "code",
   "execution_count": null,
   "metadata": {},
   "outputs": [
    {
     "name": "stdout",
     "output_type": "stream",
     "text": [
      "num1 value:  6\n",
      "5\n"
     ]
    }
   ],
   "source": [
    "a : int = 5\n",
    "def abc(num1:int)->None:\n",
    "    num1=6\n",
    "    print(\"num1 value: \"  ,num1)\n",
    "\n",
    "abc(a)\n",
    "\n",
    "print(a)\n",
    "# when a=5 enter the function, it becomes num1=5 but when we do num1=6 it becomes copy /\n",
    "# actual a not changed\n"
   ]
  },
  {
   "cell_type": "markdown",
   "metadata": {},
   "source": [
    "##### Proof with id"
   ]
  },
  {
   "cell_type": "code",
   "execution_count": 14,
   "metadata": {},
   "outputs": [
    {
     "name": "stdout",
     "output_type": "stream",
     "text": [
      "ID of a=5: 140708490070584\n",
      "ID of num1=5: 140708490070584\n",
      "num1 value:  6\n",
      "ID of num1=6: 140708490070616\n",
      "5\n",
      "ID of 'a' at the end of program: 140708490070584\n"
     ]
    }
   ],
   "source": [
    "a : int = 5\n",
    "print(\"ID of a=5:\", id(a))\n",
    "def abc(num1:int)->None:\n",
    "    print(\"ID of num1=5:\", id(num1))\n",
    "    num1=6\n",
    "\n",
    "    print(\"num1 value: \"  ,num1)\n",
    "    print(\"ID of num1=6:\", id(num1))\n",
    "\n",
    "abc(a)\n",
    "\n",
    "print(a)\n",
    "print(\"ID of 'a' at the end of program:\", id(a))"
   ]
  },
  {
   "cell_type": "code",
   "execution_count": 15,
   "metadata": {},
   "outputs": [
    {
     "name": "stdout",
     "output_type": "stream",
     "text": [
      "X value: 7 and X value: 140708490070648  \n",
      "Y value: 7 and Y value: 140708490070648  \n",
      "X value: 7 and X value: 140708490070648  \n",
      "Y value: 200 and Y value: 140708490076824  \n"
     ]
    }
   ],
   "source": [
    "x : int = 7\n",
    "y: int = 7\n",
    "\n",
    "print(f\"X value: {x} and X value: {id(x)}  \")\n",
    "print(f\"Y value: {y} and Y value: {id(y)}  \")\n",
    "\n",
    "y=200\n",
    "print(f\"X value: {x} and X value: {id(x)}  \")\n",
    "print(f\"Y value: {y} and Y value: {id(y)}  \")"
   ]
  },
  {
   "cell_type": "code",
   "execution_count": 25,
   "metadata": {},
   "outputs": [
    {
     "name": "stdout",
     "output_type": "stream",
     "text": [
      "140708490070648\n",
      "140708490070648\n"
     ]
    }
   ],
   "source": [
    "a : int = 7\n",
    "b: int = 7\n",
    "\n",
    "print(id(a))\n",
    "print(id(b))"
   ]
  }
 ],
 "metadata": {
  "kernelspec": {
   "display_name": "python276",
   "language": "python",
   "name": "python3"
  },
  "language_info": {
   "codemirror_mode": {
    "name": "ipython",
    "version": 3
   },
   "file_extension": ".py",
   "mimetype": "text/x-python",
   "name": "python",
   "nbconvert_exporter": "python",
   "pygments_lexer": "ipython3",
   "version": "3.12.0"
  }
 },
 "nbformat": 4,
 "nbformat_minor": 2
}
